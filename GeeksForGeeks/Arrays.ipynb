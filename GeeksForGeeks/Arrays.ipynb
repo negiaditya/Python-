{
 "cells": [
  {
   "cell_type": "code",
   "execution_count": 19,
   "metadata": {},
   "outputs": [],
   "source": [
    "arr=[5,4,20,15,8,7]"
   ]
  },
  {
   "cell_type": "code",
   "execution_count": 10,
   "metadata": {},
   "outputs": [
    {
     "data": {
      "text/plain": [
       "[7, 8, 10, 4, 3]"
      ]
     },
     "execution_count": 10,
     "metadata": {},
     "output_type": "execute_result"
    }
   ],
   "source": [
    "# revers an array\n",
    "def rev(arr,revz=[]):\n",
    "    if len(arr)==0:\n",
    "        return\n",
    "    revz.append(arr.pop())\n",
    "    rev(arr,revz)\n",
    "    return revz\n",
    "rev(arr)"
   ]
  },
  {
   "cell_type": "code",
   "execution_count": 15,
   "metadata": {},
   "outputs": [
    {
     "data": {
      "text/plain": [
       "[10, 8, 7, 3, 4]"
      ]
     },
     "execution_count": 15,
     "metadata": {},
     "output_type": "execute_result"
    }
   ],
   "source": [
    "# rotate array\n",
    "def rot(arr,k=2):\n",
    "    return arr[k:]+arr[:k]\n",
    "rot(arr)"
   ]
  },
  {
   "cell_type": "code",
   "execution_count": 26,
   "metadata": {},
   "outputs": [
    {
     "name": "stdout",
     "output_type": "stream",
     "text": [
      "20 15 8 7\n",
      "\n",
      "7 8 15 20\n"
     ]
    }
   ],
   "source": [
    "# Leaders in an array -> No greater in their right side\n",
    "def lead(arr):\n",
    "    ld = [arr[i] for i in range(len(arr)-1) if max(arr[i+1:])<arr[i]]\n",
    "    ld.append(arr[-1])\n",
    "    return(ld)\n",
    "print(*lead(arr))\n",
    "print(\"\")\n",
    "def lead2(arr):\n",
    "    mx = [arr[-1]]\n",
    "    for i in arr[-2::-1]:\n",
    "        if i>mx[-1]:\n",
    "            mx.append(i)\n",
    "    return mx\n",
    "print(*lead2(arr))"
   ]
  },
  {
   "cell_type": "code",
   "execution_count": 32,
   "metadata": {},
   "outputs": [
    {
     "data": {
      "text/plain": [
       "3"
      ]
     },
     "execution_count": 32,
     "metadata": {},
     "output_type": "execute_result"
    }
   ],
   "source": [
    "# Trapping rain water\n",
    "build = [3,2,1,4,5]\n",
    "def trap(build):\n",
    "    sm = 0\n",
    "    for i in range(1,len(build)-1):\n",
    "        water =  min(max(build[:i]),max(build[i+1:]))-build[i]\n",
    "        if water>=1:\n",
    "            sm += water\n",
    "    return sm\n",
    "trap(build)    "
   ]
  },
  {
   "cell_type": "code",
   "execution_count": 44,
   "metadata": {},
   "outputs": [
    {
     "name": "stdout",
     "output_type": "stream",
     "text": [
      "21\n",
      "13\n"
     ]
    }
   ],
   "source": [
    "# Stock buy and sell -> max profit that can be earned\n",
    "stockpris = [1,5,3,8,6,12,18]\n",
    "def getmax(arr):\n",
    "    sm = 0\n",
    "    for i in range(0,len(arr)):\n",
    "        if i==0 and arr[i]<arr[i+1]:\n",
    "            sm -= arr[i]\n",
    "        elif i==len(arr)-1 and arr[i]>arr[i-1]:\n",
    "            sm += arr[i]\n",
    "        elif arr[i]>arr[i+1] and arr[i]>arr[i-1]:\n",
    "            sm +=arr[i]\n",
    "        elif arr[i]<arr[i+1] and arr[i]<arr[i-1]:\n",
    "            sm -= arr[i]\n",
    "    return sm\n",
    "print(getmax(stockpris))\n",
    "print(getmax([1,5,3,8,12]))           \n",
    "            "
   ]
  },
  {
   "cell_type": "code",
   "execution_count": 55,
   "metadata": {
    "scrolled": true
   },
   "outputs": [
    {
     "name": "stdout",
     "output_type": "stream",
     "text": [
      "[6, 6, 8, 10]\n",
      "\n",
      "[6, 6, 8, 10]\n"
     ]
    }
   ],
   "source": [
    "# Sum of sliding window -> k size\n",
    "ark = [1,2,3,1,4,5]\n",
    "def ksum(arr,k):\n",
    "    sm = []\n",
    "    for i in range(len(arr)-k+1):\n",
    "        sm.append(sum(arr[i:i+k]))\n",
    "    return sm\n",
    "print(ksum(ark,3))\n",
    "print(\"\")\n",
    "def ksum1(arr,k):\n",
    "    sm = [sum(arr[:k])]\n",
    "    smz = sum(arr[:k])\n",
    "    for i in range(1,len(arr)-k+1):\n",
    "        smz = smz-arr[i-1]+arr[i+k-1]\n",
    "        sm.append(smz)\n",
    "    return sm\n",
    "print(ksum1(ark,3))"
   ]
  },
  {
   "cell_type": "code",
   "execution_count": 8,
   "metadata": {},
   "outputs": [
    {
     "name": "stdout",
     "output_type": "stream",
     "text": [
      "13\n",
      "\n",
      "13\n"
     ]
    }
   ],
   "source": [
    "# Get range of sum -> Given array, getSum(start,end)\n",
    "ar = [2,8,3,9,6,5,4]\n",
    "def getSum(arr,start,end):\n",
    "    return sum(arr[start:end+1])\n",
    "print(getSum(ar,0,2))\n",
    "print('')\n",
    "def getSum1(arr,start,end):\n",
    "    prefix=[arr[0]]\n",
    "    for i in arr[1:]:\n",
    "        prefix.append(i+prefix[-1])\n",
    "    if start == 0:\n",
    "        return prefix[end]\n",
    "    return prefix[end]-prefix[start-1]\n",
    "print(getSum1(ar,0,2))"
   ]
  },
  {
   "cell_type": "code",
   "execution_count": 40,
   "metadata": {},
   "outputs": [
    {
     "name": "stdout",
     "output_type": "stream",
     "text": [
      "True\n",
      "\n",
      "True\n"
     ]
    }
   ],
   "source": [
    "# Find equilibrium point of integers\n",
    "ar = [3,4,8,-9,20,6]\n",
    "def equi1(ar):\n",
    "    for i in range(len(ar)):\n",
    "        if sum(ar[:i])==sum(ar[i+1:]):\n",
    "            return True\n",
    "    return False\n",
    "print(equi1(ar))\n",
    "print(\"\")\n",
    "def equi(ar):\n",
    "    sm =sum(ar)\n",
    "    lsum=0\n",
    "    for i in range(len(ar)):\n",
    "        if lsum == sm-ar[i]:\n",
    "            return True\n",
    "            lsum += ar[i]\n",
    "        sm -= ar[i]\n",
    "    return False\n",
    "print(equi(ar))    "
   ]
  },
  {
   "cell_type": "code",
   "execution_count": 65,
   "metadata": {},
   "outputs": [],
   "source": [
    "def prefixsum(arr):\n",
    "    prefix=[arr[0]]\n",
    "    for i in arr[1:]:\n",
    "        prefix.append(i+prefix[-1])\n",
    "    return prefix"
   ]
  },
  {
   "cell_type": "code",
   "execution_count": 53,
   "metadata": {},
   "outputs": [
    {
     "data": {
      "text/plain": [
       "5"
      ]
     },
     "execution_count": 53,
     "metadata": {},
     "output_type": "execute_result"
    }
   ],
   "source": [
    "# Find max appearing element in given ranges\n",
    "lowr = [1,2,5,15]\n",
    "higr = [5,8,7,18]\n",
    "def maxcount(lowr,highr):\n",
    "    cnt = [0]*(max(higr)+2)\n",
    "    for i in range(len(lowr)):\n",
    "        cnt[lowr[i]] += 1\n",
    "        cnt[higr[i]+1] -= 1\n",
    "    cntn = prefixsum(cnt)\n",
    "    k = cntn.index(max(cntn))\n",
    "    return k\n",
    "maxcount(lowr,higr)"
   ]
  },
  {
   "cell_type": "code",
   "execution_count": 60,
   "metadata": {},
   "outputs": [
    {
     "data": {
      "text/plain": [
       "True"
      ]
     },
     "execution_count": 60,
     "metadata": {},
     "output_type": "execute_result"
    }
   ],
   "source": [
    "# Equal sum of 3 subarray\n",
    "arr = [5,2,6,1,1,1,5]\n",
    "def equalsum(arr,k):\n",
    "    \"\"\"\n",
    "    input: arr-> given array\n",
    "           k -> no.of subarrays it gets divided to\n",
    "    output: Bool(true/false) True if its possible to divide arr into k subarrays\n",
    "    \"\"\"\n",
    "    if sum(arr)%k!=0:\n",
    "        return False\n",
    "    sm = sum(arr)//k\n",
    "    s=0\n",
    "    cnt=0\n",
    "    for i in range(len(arr)):\n",
    "        s+=arr[i]\n",
    "        if s==sm:\n",
    "            s=0\n",
    "            cnt+=1   \n",
    "    if cnt==k:\n",
    "        return True\n",
    "    return False\n",
    "equalsum(arr,3)\n",
    "    "
   ]
  },
  {
   "cell_type": "code",
   "execution_count": 81,
   "metadata": {},
   "outputs": [
    {
     "data": {
      "text/plain": [
       "True"
      ]
     },
     "execution_count": 81,
     "metadata": {},
     "output_type": "execute_result"
    }
   ],
   "source": [
    "# Subarray with a sum k\n",
    "arr=[6,4,-2,-2,8,0,5,-1,-1,-1,-1,-1]\n",
    "def is_sumarray(arr,k):\n",
    "    \"\"\"\n",
    "    Input:  arr-> array, k-> sum to be searched for\n",
    "    Output: True/False\n",
    "    \"\"\"\n",
    "    sm = [0]+prefixsum(arr)\n",
    "    for i in range(len(sm)):\n",
    "        if sm[i]+k in sm[i+1:]:\n",
    "            return True\n",
    "    return False\n",
    "         \n",
    "is_sumarray(arr,4)"
   ]
  },
  {
   "cell_type": "code",
   "execution_count": 87,
   "metadata": {},
   "outputs": [
    {
     "name": "stdout",
     "output_type": "stream",
     "text": [
      "[(0, 2), (2, 3), (4, 5)]\n"
     ]
    }
   ],
   "source": [
    "# Get index of subarray with a given sum, if more than one get all (Overlap allowed)\n",
    "arr = [2,3,4,5,1,8]\n",
    "def idxsum(arr,k):\n",
    "    \"\"\"\n",
    "    Input: arr->array, k->sum to be found\n",
    "    Outpur: (start and end indices) of the array with given sum\n",
    "    \"\"\"\n",
    "    idx = []\n",
    "    sm = [0] + prefixsum(arr)\n",
    "    for i in range(len(sm)):\n",
    "        if sm[i]+k in sm[i+1:]:\n",
    "            idx.append((i,sm.index(sm[i]+k)-1))\n",
    "    print(idx)\n",
    "idxsum(arr,9)"
   ]
  },
  {
   "cell_type": "code",
   "execution_count": 95,
   "metadata": {},
   "outputs": [
    {
     "name": "stdout",
     "output_type": "stream",
     "text": [
      "[(0, 10), (2, 4), (2, 6), (5, 6), (6, 9)]\n"
     ]
    }
   ],
   "source": [
    "# Print all subarrays with sum 0\n",
    "arr = [6, 3, -1, -3, 4, -2, 2, 4, 6, -12, -7]\n",
    "def idxsum0(arr):\n",
    "    dic = {}\n",
    "    sm = 0\n",
    "    for i in range(len(arr)):\n",
    "        sm +=arr[i]\n",
    "        if sm not in dic:\n",
    "            dic[sm] = [i]\n",
    "        else:\n",
    "            dic[sm].append(i)\n",
    "    if sum(arr)==0:\n",
    "        idx = [(0,len(arr)-1)]\n",
    "    else:\n",
    "        idx = []\n",
    "    for k,v in dic.items():\n",
    "        if len(v)==2:\n",
    "            idx.append((v[0]+1,v[1]))\n",
    "        if len(v)>2:\n",
    "            for x in range(len(v)-1):\n",
    "                for y in range(x+1,len(v)):\n",
    "                    idx.append((v[x]+1,v[y]))\n",
    "    return idx            \n",
    "print(idxsum0(arr))"
   ]
  },
  {
   "cell_type": "code",
   "execution_count": 96,
   "metadata": {},
   "outputs": [
    {
     "data": {
      "text/plain": [
       "[(2, 4), (2, 6), (5, 6), (6, 9), (0, 10)]"
      ]
     },
     "execution_count": 96,
     "metadata": {},
     "output_type": "execute_result"
    }
   ],
   "source": [
    "def findSubArrays(arr,n): \n",
    "  \n",
    "    # create a python dict \n",
    "    hashMap = {} \n",
    "      \n",
    "    # create a python list  \n",
    "    # equivalent to ArrayList \n",
    "    out = [] \n",
    "      \n",
    "    # tracker for sum of elements \n",
    "    sum1 = 0\n",
    "    for i in range(n): \n",
    "          \n",
    "        # increment sum by element of array \n",
    "        sum1 += arr[i] \n",
    "          \n",
    "        # if sum is 0, we found a subarray starting  \n",
    "        # from index 0 and ending at index i \n",
    "        if sum1 == 0: \n",
    "            out.append((0, i)) \n",
    "        al = [] \n",
    "          \n",
    "        # If sum already exists in the map  \n",
    "        # there exists at-least one subarray  \n",
    "        # ending at index i with 0 sum  \n",
    "        if sum1 in hashMap: \n",
    "              \n",
    "            # map[sum] stores starting index  \n",
    "            # of all subarrays \n",
    "            al = hashMap.get(sum1) \n",
    "            for it in range(len(al)): \n",
    "                out.append((al[it] + 1, i)) \n",
    "        al.append(i) \n",
    "        hashMap[sum1] = al \n",
    "    return out\n",
    "findSubArrays(arr,11)"
   ]
  },
  {
   "cell_type": "code",
   "execution_count": 2,
   "metadata": {},
   "outputs": [
    {
     "data": {
      "text/plain": [
       "4"
      ]
     },
     "execution_count": 2,
     "metadata": {},
     "output_type": "execute_result"
    }
   ],
   "source": [
    "cntarr([2,-2,3,0,4,-7],0)"
   ]
  },
  {
   "cell_type": "markdown",
   "metadata": {},
   "source": [
    "# Number of subarrays having sum exactly equal to k\n",
    "arr = [10, 2, -2, -20, 10] \n",
    "k = -10\n",
    "# Output-> 3 i.e [0,3][1,4][3,4]\n",
    "def cntarr(arr,k):\n",
    "    dic = dict()\n",
    "    cnt = 0\n",
    "    sm =0\n",
    "    for i in range(len(arr)):\n",
    "        sm += arr[i]\n",
    "        if sm==k:\n",
    "            cnt+=1\n",
    "        if sm-k in dic:\n",
    "            cnt += dic[sm-k]\n",
    "        \n",
    "        if sm not in dic:\n",
    "            dic[sm] = 1\n",
    "        else:\n",
    "            dic[sm] += 1\n",
    "    return cnt\n",
    "cntarr(arr,k)"
   ]
  },
  {
   "cell_type": "code",
   "execution_count": 109,
   "metadata": {},
   "outputs": [
    {
     "data": {
      "text/plain": [
       "4"
      ]
     },
     "execution_count": 109,
     "metadata": {},
     "output_type": "execute_result"
    }
   ],
   "source": [
    "# Longest Subarray having sum of elements atmost ‘k’\n",
    "arr = [1,2,1,0,1,1,0]\n",
    "k = 4\n",
    "# Output -> len: 5 sum([1,0,1,1,0])<k \n",
    "def atmostsum(arr,k):\n",
    "    sm = 0\n",
    "    cnt = 0\n",
    "    maxcnt = 0\n",
    "    for i in range(len(arr)):\n",
    "        if sm+arr[i] <= k:\n",
    "            cnt+=1\n",
    "            sm += arr[i]\n",
    "        elif sm!=0:\n",
    "            sm = sm + arr[i-cnt] + arr[i]\n",
    "        maxcnt = max(cnt,maxcnt)\n",
    "    return maxcnt\n",
    "atmostsum(arr,k)\n",
    "        "
   ]
  },
  {
   "cell_type": "code",
   "execution_count": 116,
   "metadata": {},
   "outputs": [
    {
     "data": {
      "text/plain": [
       "(1, 6)"
      ]
     },
     "execution_count": 116,
     "metadata": {},
     "output_type": "execute_result"
    }
   ],
   "source": [
    "# Largest subarray with equal number of 0s and 1s\n",
    "arr = [1,0,1,1,1,0,0]\n",
    "# Output -> 5 [0,1,1,1,0,0]\n",
    "def maxLen(arr):\n",
    "    dic = dict()\n",
    "    sm = 0\n",
    "    max_len = 0\n",
    "    \n",
    "    arx = [-1 if i==0 else i for i in arr]\n",
    "    \n",
    "    for i in range(len(arx)):\n",
    "        sm = sm + arx[i]\n",
    "        \n",
    "        if sm == 0:\n",
    "            max_len = i+1\n",
    "            ending_idx = i\n",
    "        \n",
    "        if sm in dic:\n",
    "            if max_len < i - dic[sm]:\n",
    "                max_len = i - dic[sm]\n",
    "                ending_idx = i\n",
    "        else:\n",
    "            dic[sm] = i   \n",
    "                \n",
    "    return (ending_idx-max_len+1,ending_idx) \n",
    "maxLen(arr)"
   ]
  },
  {
   "cell_type": "code",
   "execution_count": null,
   "metadata": {},
   "outputs": [],
   "source": []
  }
 ],
 "metadata": {
  "kernelspec": {
   "display_name": "Python 3",
   "language": "python",
   "name": "python3"
  },
  "language_info": {
   "codemirror_mode": {
    "name": "ipython",
    "version": 3
   },
   "file_extension": ".py",
   "mimetype": "text/x-python",
   "name": "python",
   "nbconvert_exporter": "python",
   "pygments_lexer": "ipython3",
   "version": "3.7.6"
  }
 },
 "nbformat": 4,
 "nbformat_minor": 4
}
