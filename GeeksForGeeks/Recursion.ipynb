{
 "cells": [
  {
   "cell_type": "code",
   "execution_count": 18,
   "metadata": {},
   "outputs": [
    {
     "name": "stdout",
     "output_type": "stream",
     "text": [
      "[10, 9, 8, 7, 6, 5, 4, 3, 2, 1, 1, 2, 3, 4, 5, 6, 7, 8, 9, 10]\n"
     ]
    }
   ],
   "source": [
    "# 10->1->10\n",
    "\n",
    "def palin(n,lst=[]):\n",
    "    if n<1:\n",
    "        return\n",
    "    else:\n",
    "        lst.append(n)\n",
    "        palin(n-1,lst)\n",
    "        lst.append(n)\n",
    "    return lst\n",
    "print(palin(10))"
   ]
  },
  {
   "cell_type": "code",
   "execution_count": 22,
   "metadata": {},
   "outputs": [
    {
     "name": "stdout",
     "output_type": "stream",
     "text": [
      "5\n",
      "4\n",
      "3\n",
      "2\n",
      "1\n",
      " \n",
      "1\n",
      "2\n",
      "3\n",
      "4\n",
      "5\n",
      "6\n",
      "7\n",
      "8\n",
      "9\n",
      "10\n",
      "\n",
      "1\n",
      "2\n",
      "3\n",
      "4\n",
      "5\n"
     ]
    }
   ],
   "source": [
    "# n to 1\n",
    "def rev(n):\n",
    "    if n<1:\n",
    "        return\n",
    "    print(n)\n",
    "    rev(n-1)\n",
    "rev(5)\n",
    "\n",
    "print(\" \")\n",
    "def forw(n):\n",
    "    if n<1:\n",
    "        return\n",
    "    forw(n-1)\n",
    "    print(n)\n",
    "forw(10)\n",
    "\n",
    "print(\"\")\n",
    "def tailforw(n,i=1):\n",
    "    if n<1:\n",
    "        return\n",
    "    print(i)\n",
    "    tailforw(n-1,i+1)\n",
    "tailforw(5)"
   ]
  },
  {
   "cell_type": "code",
   "execution_count": 21,
   "metadata": {},
   "outputs": [
    {
     "name": "stdout",
     "output_type": "stream",
     "text": [
      "24\n",
      "\n",
      "120\n"
     ]
    }
   ],
   "source": [
    "# Factorial\n",
    "def fact(n):\n",
    "    if n==0:\n",
    "        return 1\n",
    "    return n*fact(n-1)\n",
    "print(fact(4))\n",
    "print(\"\")\n",
    "\n",
    "def tailfact(n,val=1):\n",
    "    if n==0:\n",
    "        return val\n",
    "    return tailfact(n-1,n*val)\n",
    "print(tailfact(5))"
   ]
  },
  {
   "cell_type": "code",
   "execution_count": 51,
   "metadata": {},
   "outputs": [
    {
     "name": "stdout",
     "output_type": "stream",
     "text": [
      "True\n",
      "\n",
      "False\n"
     ]
    }
   ],
   "source": [
    "# Palindrom recur\n",
    "stn = 'aabbaka'\n",
    "\n",
    "def isPalin(st,j,i=0):\n",
    "    if i==j:\n",
    "        return True\n",
    "    if i>j:\n",
    "        return True\n",
    "    if st[i]!=st[j]:\n",
    "        return False\n",
    "    return isPalin(st,i+1,j-1)\n",
    "print(isPalin(stn,len(stn)-1))\n",
    "\n",
    "print(\"\")\n",
    "def palin(st):\n",
    "    k = len(st)//2\n",
    "    if len(st)%2==0:\n",
    "        return st[:k] == st[len(st)-1:k-1:-1]\n",
    "    else:\n",
    "        return st[:k] == st[len(st)-1:k:-1]\n",
    "print(palin(stn))"
   ]
  },
  {
   "cell_type": "code",
   "execution_count": 64,
   "metadata": {},
   "outputs": [
    {
     "name": "stdout",
     "output_type": "stream",
     "text": [
      "4\n",
      "3\n"
     ]
    }
   ],
   "source": [
    "# Jospeph\n",
    "def jos(n,k):\n",
    "    if n==1:\n",
    "        return 1\n",
    "    return (jos(n-1,k)+k-1)%n+1\n",
    "print(jos(7,3))\n",
    "\n",
    "def josp(n,k):\n",
    "    if n==1:\n",
    "        return 0\n",
    "    return (josp(n-1,k)+k)%n\n",
    "print(josp(7,3))"
   ]
  },
  {
   "cell_type": "code",
   "execution_count": 68,
   "metadata": {},
   "outputs": [
    {
     "data": {
      "text/plain": [
       "28"
      ]
     },
     "execution_count": 68,
     "metadata": {},
     "output_type": "execute_result"
    }
   ],
   "source": [
    "# Sum of digits of num\n",
    "def s(n):\n",
    "    if n//10==0:\n",
    "        return n \n",
    "    return s(n//10)+(n%10)\n",
    "s(32812633)"
   ]
  },
  {
   "cell_type": "code",
   "execution_count": 85,
   "metadata": {},
   "outputs": [
    {
     "name": "stdout",
     "output_type": "stream",
     "text": [
      "-1\n",
      "-1\n",
      "0\n",
      "-1\n",
      "-1\n",
      "-1\n",
      "-1\n",
      "-1\n",
      "0\n",
      "1\n"
     ]
    },
    {
     "data": {
      "text/plain": [
       "2"
      ]
     },
     "execution_count": 85,
     "metadata": {},
     "output_type": "execute_result"
    }
   ],
   "source": [
    "# pieces\n",
    "def pieces(n,a,b,c):\n",
    "    if n==0:\n",
    "        return 0\n",
    "    if n<0:\n",
    "        return -1\n",
    "    pis= max(pieces(n-a,a,b,c),pieces(n-b,a,b,c),pieces(n-c,a,b,c))\n",
    "    print(pis)\n",
    "    if pis==-1:\n",
    "        return -1\n",
    "    return pis+1\n",
    "        \n",
    "pieces(23,11,9,12)"
   ]
  },
  {
   "cell_type": "code",
   "execution_count": 88,
   "metadata": {},
   "outputs": [
    {
     "name": "stdout",
     "output_type": "stream",
     "text": [
      "abcd  \n",
      "abc  \n",
      "abd  \n",
      "ab  \n",
      "acd  \n",
      "ac  \n",
      "ad  \n",
      "a  \n",
      "bcd  \n",
      "bc  \n",
      "bd  \n",
      "b  \n",
      "cd  \n",
      "c  \n",
      "d  \n",
      "  \n"
     ]
    }
   ],
   "source": [
    "# Get substring\n",
    "def substr(st,cur=\"\",i=0):\n",
    "    if i==len(st):\n",
    "        print(cur,\" \")\n",
    "        return \n",
    "    substr(st,cur+st[i],i+1)\n",
    "    substr(st,cur,i+1)\n",
    "substr('abcd')\n",
    "    "
   ]
  },
  {
   "cell_type": "code",
   "execution_count": 1,
   "metadata": {},
   "outputs": [
    {
     "data": {
      "text/plain": [
       "5"
      ]
     },
     "execution_count": 1,
     "metadata": {},
     "output_type": "execute_result"
    }
   ],
   "source": [
    "int('101',2)"
   ]
  },
  {
   "cell_type": "code",
   "execution_count": null,
   "metadata": {},
   "outputs": [],
   "source": []
  }
 ],
 "metadata": {
  "kernelspec": {
   "display_name": "Python 3",
   "language": "python",
   "name": "python3"
  },
  "language_info": {
   "codemirror_mode": {
    "name": "ipython",
    "version": 3
   },
   "file_extension": ".py",
   "mimetype": "text/x-python",
   "name": "python",
   "nbconvert_exporter": "python",
   "pygments_lexer": "ipython3",
   "version": "3.7.6"
  }
 },
 "nbformat": 4,
 "nbformat_minor": 4
}
