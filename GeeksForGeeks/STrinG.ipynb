{
 "cells": [
  {
   "cell_type": "code",
   "execution_count": 39,
   "metadata": {},
   "outputs": [
    {
     "name": "stdout",
     "output_type": "stream",
     "text": [
      "97\n",
      "98\n",
      "99\n",
      "100\n",
      "101\n",
      "102\n",
      "103\n",
      "104\n",
      "105\n",
      "106\n",
      "107\n",
      "108\n",
      "109\n",
      "110\n",
      "111\n",
      "112\n",
      "113\n",
      "114\n",
      "115\n",
      "116\n",
      "117\n",
      "118\n",
      "119\n",
      "120\n",
      "121\n",
      "122\n"
     ]
    }
   ],
   "source": [
    "for i in 'abcdefghijklmnopqrstuvwxyz':\n",
    "    print(ord(i))"
   ]
  },
  {
   "cell_type": "code",
   "execution_count": 21,
   "metadata": {},
   "outputs": [
    {
     "data": {
      "text/plain": [
       "True"
      ]
     },
     "execution_count": 21,
     "metadata": {},
     "output_type": "execute_result"
    }
   ],
   "source": [
    "# CHeck if anagrams preSent\n",
    "def anagram1(str1,str2):\n",
    "    if len(str1) != len(str2):\n",
    "        return False\n",
    "    cnt = [0] * 256\n",
    "    for i in str1:\n",
    "        cnt[ord(i)] += 1\n",
    "    for j in str2:\n",
    "        cnt[ord(j)] -= 1\n",
    "    if all(v==0 for v in cnt):\n",
    "        return True\n",
    "    else:\n",
    "        return False\n",
    "anagram1('gfgak','ggfak')"
   ]
  },
  {
   "cell_type": "code",
   "execution_count": 26,
   "metadata": {},
   "outputs": [
    {
     "data": {
      "text/plain": [
       "True"
      ]
     },
     "execution_count": 26,
     "metadata": {},
     "output_type": "execute_result"
    }
   ],
   "source": [
    "# Using dict\n",
    "def anagram2(str1,str2):\n",
    "    if len(str1) != len(str2):\n",
    "        return False\n",
    "    cnt = dict()\n",
    "    for i in str1:\n",
    "        if i in cnt:\n",
    "            cnt[i]+=1\n",
    "        else:\n",
    "            cnt[i]=1\n",
    "    for j in str2:\n",
    "        if j not in cnt:\n",
    "            return False\n",
    "        else:\n",
    "            cnt[j]-=1\n",
    "    if all(v==0 for v in cnt.values()):\n",
    "        return True\n",
    "    else:\n",
    "        return False\n",
    "anagram2('gfagk','ggfak')"
   ]
  },
  {
   "cell_type": "code",
   "execution_count": 40,
   "metadata": {},
   "outputs": [
    {
     "data": {
      "text/plain": [
       "'b'"
      ]
     },
     "execution_count": 40,
     "metadata": {},
     "output_type": "execute_result"
    }
   ],
   "source": [
    "# Given a string find first repeating characters in it\n",
    "def repeat1(str1):\n",
    "    cnt = [-1]*256\n",
    "    res = 10000\n",
    "    for i in range(len(str1)):\n",
    "        if cnt[ord(str1[i])]==-1:\n",
    "            cnt[ord(str1[i])]=i\n",
    "        else:\n",
    "            res = min(res,cnt[ord(str1[i])])\n",
    "    return str1[res]\n",
    "repeat1('abcbc')"
   ]
  },
  {
   "cell_type": "code",
   "execution_count": 68,
   "metadata": {},
   "outputs": [
    {
     "data": {
      "text/plain": [
       "'f'"
      ]
     },
     "execution_count": 68,
     "metadata": {},
     "output_type": "execute_result"
    }
   ],
   "source": [
    "# Given a string find first non repeating char in it\n",
    "def notRepeat(str1):\n",
    "    cnt = [0]*256\n",
    "    for i in range(len(str1)):\n",
    "        if cnt[ord(str1[i])]==0:\n",
    "            cnt[ord(str1[i])]=[1,i]\n",
    "        else:\n",
    "            cnt[ord(str1[i])][0] += 1\n",
    "    mn = 1000\n",
    "    for i in cnt:\n",
    "        if i:\n",
    "            if i[0]==1:\n",
    "                return str1[i[1]]\n",
    "                break\n",
    "            \n",
    "            \n",
    "notRepeat('geeksforgeeks')"
   ]
  },
  {
   "cell_type": "code",
   "execution_count": 9,
   "metadata": {},
   "outputs": [],
   "source": [
    "def fac(n):\n",
    "    if n==0 or n==1:\n",
    "        return 1\n",
    "    return fac(n-1)*n"
   ]
  },
  {
   "cell_type": "code",
   "execution_count": 24,
   "metadata": {},
   "outputs": [
    {
     "name": "stdout",
     "output_type": "stream",
     "text": [
      "4\n",
      "481\n",
      "4\n",
      "577\n",
      "3\n",
      "595\n",
      "1\n",
      "597\n",
      "1\n",
      "598\n"
     ]
    },
    {
     "data": {
      "text/plain": [
       "598"
      ]
     },
     "execution_count": 24,
     "metadata": {},
     "output_type": "execute_result"
    }
   ],
   "source": [
    "# Find lexigraphic Rank\n",
    "def lexigraphic1(str1):\n",
    "    renk = 1\n",
    "    for j in range(len(str1)-1):\n",
    "        a = 0\n",
    "        for k in range(j,len(str1)):\n",
    "            if ord(str1[k])<ord(str1[j]):\n",
    "                a += 1\n",
    "        print(a)\n",
    "        renk += a*fac(len(str1)-j-1)\n",
    "        print(renk)\n",
    "    return renk\n",
    "lexigraphic1('string')"
   ]
  },
  {
   "cell_type": "code",
   "execution_count": 29,
   "metadata": {},
   "outputs": [
    {
     "data": {
      "text/plain": [
       "598"
      ]
     },
     "execution_count": 29,
     "metadata": {},
     "output_type": "execute_result"
    }
   ],
   "source": [
    "# Find lexigraphic rank\n",
    "def lexigraphic2(str1):\n",
    "    renk = 1\n",
    "    mul = fac(len(str1))\n",
    "    \n",
    "    count = [0]*256\n",
    "    \n",
    "    for i in range(len(str1)):\n",
    "        count[ord(str1[i])] += 1\n",
    "    for i in range(1,len(count)):\n",
    "        count[i] += count[i-1]\n",
    "        \n",
    "    for i in range(len(str1)):\n",
    "        mul = mul//(len(str1)-i)\n",
    "        renk += count[ord(str1[i])-1]*mul\n",
    "        \n",
    "        for j in range(ord(str1[i]),len(count)):\n",
    "            count[j] -= 1\n",
    "        \n",
    "    return renk\n",
    "lexigraphic2('string')            "
   ]
  },
  {
   "cell_type": "code",
   "execution_count": 25,
   "metadata": {},
   "outputs": [
    {
     "data": {
      "text/plain": [
       "[0, 1, 2]"
      ]
     },
     "execution_count": 25,
     "metadata": {},
     "output_type": "execute_result"
    }
   ],
   "source": [
    "# Find permutation of a pattern present in the string (Anagram Search)\n",
    "def is_pattern(permutation,pattern):\n",
    "    out = []\n",
    "    cnt1 = [0]*30\n",
    "    for i in pattern:\n",
    "        cnt1[ord(i)-97] += 1\n",
    "    cnt2 = [0]*30\n",
    "    for k in permutation[:len(pattern)]:\n",
    "        cnt2[ord(k)-97] += 1\n",
    "    if cnt1 == cnt2:\n",
    "         out.append(0)\n",
    "    for j in range(len(pattern),len(permutation)):\n",
    "        cnt2[ord(permutation[j])-97] += 1\n",
    "        cnt2[ord(permutation[j-len(pattern)])-97] -= 1\n",
    "        if cnt2 == cnt1:\n",
    "            out.append(j-len(pattern)+1)\n",
    "    return out\n",
    "        \n",
    "is_pattern('aaaaa','aaa')"
   ]
  },
  {
   "cell_type": "code",
   "execution_count": 27,
   "metadata": {},
   "outputs": [
    {
     "data": {
      "text/plain": [
       "True"
      ]
     },
     "execution_count": 27,
     "metadata": {},
     "output_type": "execute_result"
    }
   ],
   "source": [
    "# Check if strings are rotation of each other\n",
    "def is_rot(str1,str2):\n",
    "    if len(str1)!=len(str2):\n",
    "        return False\n",
    "    str2 += str2+str2\n",
    "    if str1 in str2:\n",
    "        return True\n",
    "    return False\n",
    "\n",
    "is_rot('abcd','dabc')    "
   ]
  },
  {
   "cell_type": "code",
   "execution_count": 32,
   "metadata": {},
   "outputs": [],
   "source": [
    "def KMPsearch(pat,txt):\n",
    "    lps = computeLPS(pat)\n",
    "    j=0\n",
    "    i=0\n",
    "    while i<len(txt):\n",
    "        if pat[j]==txt[i]:\n",
    "            pass\n",
    "            "
   ]
  },
  {
   "cell_type": "code",
   "execution_count": 31,
   "metadata": {},
   "outputs": [
    {
     "data": {
      "text/plain": [
       "[0, 1, 2, 3, 0, 1, 2, 0, 0]"
      ]
     },
     "execution_count": 31,
     "metadata": {},
     "output_type": "execute_result"
    }
   ],
   "source": [
    "def computeLPS(pat):\n",
    "    lps = [0]*len(pat)\n",
    "    i=1\n",
    "    j=0\n",
    "    while(i<len(pat)):\n",
    "        if pat[j]==pat[i]:\n",
    "            j += 1\n",
    "            lps[i]=j\n",
    "            i += 1\n",
    "        else:\n",
    "            if j!=0:\n",
    "                j = lps[j-1]\n",
    "            else:\n",
    "                lps[i]=0\n",
    "                i+=1\n",
    "    return lps\n",
    "computeLPS('aaaabaacd')    "
   ]
  },
  {
   "cell_type": "code",
   "execution_count": null,
   "metadata": {},
   "outputs": [],
   "source": []
  }
 ],
 "metadata": {
  "kernelspec": {
   "display_name": "Python 3",
   "language": "python",
   "name": "python3"
  },
  "language_info": {
   "codemirror_mode": {
    "name": "ipython",
    "version": 3
   },
   "file_extension": ".py",
   "mimetype": "text/x-python",
   "name": "python",
   "nbconvert_exporter": "python",
   "pygments_lexer": "ipython3",
   "version": "3.7.6"
  }
 },
 "nbformat": 4,
 "nbformat_minor": 4
}
