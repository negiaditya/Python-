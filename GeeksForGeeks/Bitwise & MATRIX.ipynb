{
 "cells": [
  {
   "cell_type": "markdown",
   "metadata": {},
   "source": [
    "# BITWISE"
   ]
  },
  {
   "cell_type": "code",
   "execution_count": 8,
   "metadata": {},
   "outputs": [
    {
     "data": {
      "text/plain": [
       "True"
      ]
     },
     "execution_count": 8,
     "metadata": {},
     "output_type": "execute_result"
    }
   ],
   "source": [
    "# Check if kth bit is set(from right)\n",
    "def kthSet(n,k):\n",
    "    kset = 1<<(k-1) # get a number with kth bit set (100->k=3)\n",
    "    if n & kset != 0: # biwtise AND 101 and 100 -> 100 ie not 0 -> True\n",
    "        return True\n",
    "    return False\n",
    "kthSet(5,1)"
   ]
  },
  {
   "cell_type": "code",
   "execution_count": 17,
   "metadata": {},
   "outputs": [
    {
     "data": {
      "text/plain": [
       "0"
      ]
     },
     "execution_count": 17,
     "metadata": {},
     "output_type": "execute_result"
    }
   ],
   "source": [
    "n=1\n",
    "n & (n-1)"
   ]
  },
  {
   "cell_type": "code",
   "execution_count": 12,
   "metadata": {},
   "outputs": [
    {
     "data": {
      "text/plain": [
       "True"
      ]
     },
     "execution_count": 12,
     "metadata": {},
     "output_type": "execute_result"
    }
   ],
   "source": [
    "# Check if power of 2\n",
    "def pow2(n):\n",
    "    # check if n not 0 and n&(n-1)==0\n",
    "    if n and not (n & (n-1)):\n",
    "        return True\n",
    "    return False\n",
    "pow2(32)"
   ]
  },
  {
   "cell_type": "code",
   "execution_count": 22,
   "metadata": {},
   "outputs": [
    {
     "data": {
      "text/plain": [
       "True"
      ]
     },
     "execution_count": 22,
     "metadata": {},
     "output_type": "execute_result"
    }
   ],
   "source": [
    "# Check if power of 4\n",
    "def pow4(n):\n",
    "    if n>0 and n&(n-1)==0 and n%3==1:\n",
    "        return True\n",
    "    return False\n",
    "pow4(16)"
   ]
  },
  {
   "cell_type": "code",
   "execution_count": 24,
   "metadata": {},
   "outputs": [
    {
     "data": {
      "text/plain": [
       "3"
      ]
     },
     "execution_count": 24,
     "metadata": {},
     "output_type": "execute_result"
    }
   ],
   "source": [
    "# Count no.of set bits \n",
    "def setbits(n):\n",
    "    cnt = 0\n",
    "    while n>0:\n",
    "        n = (n&(n-1))\n",
    "        cnt += 1\n",
    "    return cnt\n",
    "setbits(7)"
   ]
  },
  {
   "cell_type": "code",
   "execution_count": 32,
   "metadata": {},
   "outputs": [
    {
     "data": {
      "text/plain": [
       "3"
      ]
     },
     "execution_count": 32,
     "metadata": {},
     "output_type": "execute_result"
    }
   ],
   "source": [
    "# Find the odd occuring time element\n",
    "def oddoccur(arr):\n",
    "    res = 0\n",
    "    for elem in arr:\n",
    "        res = elem ^ res\n",
    "    return res\n",
    "oddoccur([3,3,3,4,5,4,5])\n"
   ]
  },
  {
   "cell_type": "code",
   "execution_count": 33,
   "metadata": {},
   "outputs": [
    {
     "name": "stdout",
     "output_type": "stream",
     "text": [
      "5 101\n",
      "1 1\n"
     ]
    },
    {
     "data": {
      "text/plain": [
       "(6, 3)"
      ]
     },
     "execution_count": 33,
     "metadata": {},
     "output_type": "execute_result"
    }
   ],
   "source": [
    "# Find two odd occuring elements\n",
    "arr = [3,4,5,4,3,5,6,3]\n",
    "def twoddoccur(arr):\n",
    "    res = 0\n",
    "    x = 0\n",
    "    for elem in arr:\n",
    "        res = elem ^ res\n",
    "    x = res\n",
    "    print(x,bin(x)[2:])\n",
    "    \n",
    "    num_with_kth_bit_set = res & ~(res-1)\n",
    "    print(num_with_kth_bit_set,bin(num_with_kth_bit_set)[2:])\n",
    "    \n",
    "    for elem in arr:\n",
    "        if elem & num_with_kth_bit_set:\n",
    "            x = x^elem\n",
    "            \n",
    "    return (x,res^x)\n",
    "twoddoccur(arr)"
   ]
  },
  {
   "cell_type": "code",
   "execution_count": 41,
   "metadata": {},
   "outputs": [
    {
     "data": {
      "text/plain": [
       "['',\n",
       " 'A',\n",
       " 'B',\n",
       " 'AB',\n",
       " 'D',\n",
       " 'AD',\n",
       " 'BD',\n",
       " 'ABD',\n",
       " 'A',\n",
       " 'AA',\n",
       " 'BA',\n",
       " 'ABA',\n",
       " 'DA',\n",
       " 'ADA',\n",
       " 'BDA',\n",
       " 'ABDA']"
      ]
     },
     "execution_count": 41,
     "metadata": {},
     "output_type": "execute_result"
    }
   ],
   "source": [
    "# Generate power set: str-> all sub-str\n",
    "def substr(st):\n",
    "    count = 1<<len(st)\n",
    "    lst = [] # Use set if no repeating\n",
    "    for i in range(count):\n",
    "        l= ''\n",
    "        for j in range(len(st)):\n",
    "            if i & 1<<j:\n",
    "                l += st[j]\n",
    "        lst.append(l)\n",
    "    return lst\n",
    "substr('ABDA')"
   ]
  },
  {
   "cell_type": "code",
   "execution_count": 72,
   "metadata": {
    "scrolled": true
   },
   "outputs": [
    {
     "data": {
      "text/plain": [
       "['', 'D', 'B', 'BD', 'A', 'AD', 'AB', 'ABD']"
      ]
     },
     "execution_count": 72,
     "metadata": {},
     "output_type": "execute_result"
    }
   ],
   "source": [
    "# Get subarray\n",
    "def substr1(st):\n",
    "    count = 2**len(st)\n",
    "    ls = []\n",
    "    for i in range(count):\n",
    "        lst = list(map(int,bin(i)[2:]))\n",
    "        lst = (len(st)-len(lst))*[0] + lst \n",
    "        string = [st[i] for i in range(len(lst)) if lst[i]==1]\n",
    "        ls.append(''.join(string))\n",
    "    return(ls)\n",
    "substr1('ABD')"
   ]
  },
  {
   "cell_type": "code",
   "execution_count": 76,
   "metadata": {
    "scrolled": true
   },
   "outputs": [
    {
     "data": {
      "text/plain": [
       "3"
      ]
     },
     "execution_count": 76,
     "metadata": {},
     "output_type": "execute_result"
    }
   ],
   "source": [
    "# Find longest substring in binary representation which has all one\n",
    "def longstr(n):\n",
    "    cnt = 0\n",
    "    while(n!=0):\n",
    "        n = n & (n<<1)\n",
    "        cnt += 1\n",
    "    return cnt\n",
    "longstr(14)\n",
    "    "
   ]
  },
  {
   "cell_type": "markdown",
   "metadata": {},
   "source": [
    "# MATRIX"
   ]
  },
  {
   "cell_type": "code",
   "execution_count": 80,
   "metadata": {},
   "outputs": [
    {
     "name": "stdout",
     "output_type": "stream",
     "text": [
      "5 6 7 \n",
      "8 9 10 \n",
      "11 12 13 \n"
     ]
    }
   ],
   "source": [
    "mat = [[5,6,7],[8,9,10],[11,12,13]]\n",
    "# Output\n",
    "for i in range(len(mat)):\n",
    "    for j in range(len(mat[i])):\n",
    "        print(mat[i][j],end=' ')\n",
    "    print('')"
   ]
  },
  {
   "cell_type": "code",
   "execution_count": 86,
   "metadata": {},
   "outputs": [
    {
     "name": "stdout",
     "output_type": "stream",
     "text": [
      "5 6 7 \n",
      "10 9 8 \n",
      "11 12 13 \n"
     ]
    }
   ],
   "source": [
    "# Snake pattern\n",
    "for i in range(len(mat)):\n",
    "    if i%2==0:\n",
    "        for j in range(len(mat[i])):\n",
    "            print(mat[i][j],end=' ')\n",
    "    else:\n",
    "        for j in range(len(mat[i])-1,-1,-1):\n",
    "            print(mat[i][j],end=' ')\n",
    "    print(\"\")\n",
    "        "
   ]
  },
  {
   "cell_type": "code",
   "execution_count": 87,
   "metadata": {},
   "outputs": [
    {
     "name": "stdout",
     "output_type": "stream",
     "text": [
      "5 8 11 \n",
      "8 9 12 \n",
      "11 12 13 \n"
     ]
    }
   ],
   "source": [
    "# Transpose matrix\n",
    "for i in range(len(mat)):\n",
    "    for j in range(len(mat[i])):\n",
    "        mat[i][j],mat[j][i]=mat[j][i],mat[i][j]\n",
    "        print(mat[i][j],end=' ')\n",
    "    print('')"
   ]
  },
  {
   "cell_type": "code",
   "execution_count": 41,
   "metadata": {},
   "outputs": [],
   "source": [
    "# Show\n",
    "def Show(mat):\n",
    "    for i in range(len(mat)):\n",
    "        for j in range(len(mat[i])):\n",
    "            print(mat[i][j],end=' ')\n",
    "        print('')"
   ]
  },
  {
   "cell_type": "code",
   "execution_count": 96,
   "metadata": {},
   "outputs": [
    {
     "data": {
      "text/plain": [
       "[[5, 8, 11], [6, 9, 12], [7, 10, 13]]"
      ]
     },
     "execution_count": 96,
     "metadata": {},
     "output_type": "execute_result"
    }
   ],
   "source": [
    "# Transpose matrix\n",
    "mat = [[5,6,7],[8,9,10],[11,12,13]]\n",
    "def transpose(mat,show=False):\n",
    "    r = len(mat)\n",
    "    c = len(mat[0])\n",
    "    for i in range(r):\n",
    "        for j in range(i+1,c):\n",
    "            mat[i][j],mat[j][i]=mat[j][i],mat[i][j]\n",
    "    if show:\n",
    "        Show(mat)\n",
    "    return mat\n",
    "transpose(mat)         "
   ]
  },
  {
   "cell_type": "code",
   "execution_count": 143,
   "metadata": {},
   "outputs": [
    {
     "data": {
      "text/plain": [
       "[[7, 10, 13], [6, 9, 12], [5, 8, 11]]"
      ]
     },
     "execution_count": 143,
     "metadata": {},
     "output_type": "execute_result"
    }
   ],
   "source": [
    "# Rotate a matrix by 90\n",
    "mat = [[5,6,7],[8,9,10],[11,12,13]]\n",
    "def rotate90(mat):\n",
    "    mat = transpose(mat)\n",
    "    for i in range(len(mat)//2):\n",
    "        for j in range(len(mat[i])):\n",
    "            mat[i][j],mat[len(mat)-i-1][j]=mat[len(mat)-i-1][j],mat[i][j]\n",
    "    return mat\n",
    "    \n",
    "rotate90(mat)\n",
    "            "
   ]
  },
  {
   "cell_type": "code",
   "execution_count": 110,
   "metadata": {},
   "outputs": [
    {
     "data": {
      "text/plain": [
       "[[5, 8, 11], [6, 9, 12], [7, 10, 13]]"
      ]
     },
     "execution_count": 110,
     "metadata": {},
     "output_type": "execute_result"
    }
   ],
   "source": [
    "mat[::-1]"
   ]
  },
  {
   "cell_type": "code",
   "execution_count": 144,
   "metadata": {},
   "outputs": [
    {
     "data": {
      "text/plain": [
       "[[7, 10, 13], [12, 9, 6], [5, 8, 11]]"
      ]
     },
     "execution_count": 144,
     "metadata": {},
     "output_type": "execute_result"
    }
   ],
   "source": [
    "for i in range(len(mat)):\n",
    "    if i%2!=0:\n",
    "        mat[i] = mat[i][::-1]\n",
    "mat"
   ]
  },
  {
   "cell_type": "code",
   "execution_count": 148,
   "metadata": {},
   "outputs": [
    {
     "data": {
      "text/plain": [
       "[[13, 12, 11], [10, 9, 8], [7, 6, 5]]"
      ]
     },
     "execution_count": 148,
     "metadata": {},
     "output_type": "execute_result"
    }
   ],
   "source": [
    "mat = [[5,6,7],[8,9,10],[11,12,13]]\n",
    "def rotate(mat,n=1):\n",
    "    for i in range(n):\n",
    "        mat = rotate90(mat)\n",
    "    return mat\n",
    "rotate(mat,2)"
   ]
  },
  {
   "cell_type": "code",
   "execution_count": 157,
   "metadata": {},
   "outputs": [
    {
     "data": {
      "text/plain": [
       "(2, 1)"
      ]
     },
     "execution_count": 157,
     "metadata": {},
     "output_type": "execute_result"
    }
   ],
   "source": [
    "# sEARCH in A row WiSE soRTEd arrAY\n",
    "mat = [[10, 22, 31,40], [15,25,35,80], [90,45,80,100]]\n",
    "def search(mat,n):\n",
    "    i=0\n",
    "    j=len(mat[0])-1\n",
    "    while(i<len(mat) and j>=0):\n",
    "        if mat[i][j] == n:\n",
    "            return (i,j)\n",
    "        if mat[i][j] < n:\n",
    "            i += 1\n",
    "        else:\n",
    "            j -= 1\n",
    "    print('Not Found')\n",
    "search(mat,45)"
   ]
  },
  {
   "cell_type": "code",
   "execution_count": 156,
   "metadata": {},
   "outputs": [
    {
     "name": "stdout",
     "output_type": "stream",
     "text": [
      "2 1\n"
     ]
    }
   ],
   "source": [
    "n=45\n",
    "for i in range(len(mat)):\n",
    "    if n in mat[i]:\n",
    "        print(i,mat[i].index(n))\n",
    "        break"
   ]
  },
  {
   "cell_type": "code",
   "execution_count": 2,
   "metadata": {},
   "outputs": [
    {
     "name": "stdout",
     "output_type": "stream",
     "text": [
      "10 22 31 40 15 80 90 45 80 100 "
     ]
    }
   ],
   "source": [
    "# Boundary Traversal OR get border\n",
    "mat = [[10, 22, 31,40], [15,25,35,80], [90,45,80,100]]\n",
    "def border(mat):\n",
    "    for i in range(len(mat)):\n",
    "        for j in range(len(mat[i])):\n",
    "            if i==0 or i==len(mat)-1 or j==0 or j==len(mat[i])-1:\n",
    "                print(mat[i][j],end=' ')\n",
    "border(mat)"
   ]
  },
  {
   "cell_type": "code",
   "execution_count": 167,
   "metadata": {},
   "outputs": [
    {
     "name": "stdout",
     "output_type": "stream",
     "text": [
      "10 22 31 40 \n",
      "15 25 35 80 \n",
      "90 45 80 100 \n"
     ]
    }
   ],
   "source": [
    "Show(mat)"
   ]
  },
  {
   "cell_type": "code",
   "execution_count": 11,
   "metadata": {},
   "outputs": [
    {
     "name": "stdout",
     "output_type": "stream",
     "text": [
      "10 22 31 40 80 100 80 45 90 15 "
     ]
    }
   ],
   "source": [
    "mat = [[10, 22, 31,40], [15,25,35,80], [90,45,80,100]]\n",
    "def border2(mat):\n",
    "    r = len(mat)\n",
    "    c = len(mat[0])\n",
    "    i=0\n",
    "    for j in range(c):\n",
    "        print(mat[i][j],end=' ')\n",
    "    for i in range(1,r):\n",
    "        print(mat[i][j],end=' ')\n",
    "    for j in range(c-2,-1,-1):\n",
    "        print(mat[i][j],end=' ')\n",
    "    for i in range(r-2,0,-1):\n",
    "        print(mat[i][j],end=' ')\n",
    "border2(mat)"
   ]
  },
  {
   "cell_type": "code",
   "execution_count": 35,
   "metadata": {},
   "outputs": [
    {
     "name": "stdout",
     "output_type": "stream",
     "text": [
      "15 16 17 \n",
      "18    10 \n",
      "11 12 13 \n"
     ]
    }
   ],
   "source": [
    "mat = [[15,16,17],[18,19,10],[11,12,13]]\n",
    "def showborder(mat):\n",
    "    for i in range(len(mat)):\n",
    "        for j in range(len(mat[i])):\n",
    "            if i==0 or i==len(mat)-1 or j==0 or j==len(mat[i])-1:\n",
    "                print(mat[i][j],end=' ')\n",
    "            else:\n",
    "                print('  ',end=' ')\n",
    "        print('')\n",
    "showborder(mat)"
   ]
  },
  {
   "cell_type": "code",
   "execution_count": 84,
   "metadata": {},
   "outputs": [
    {
     "name": "stdout",
     "output_type": "stream",
     "text": [
      "15 16 17 9 11 8 13 12 11 18 19 10 "
     ]
    }
   ],
   "source": [
    "# Spiral traversal\n",
    "mat = [[15,16,17,9],[18,19,10,11],[11,12,13,8]]\n",
    "R = len(mat)\n",
    "C = len(mat[0])\n",
    "i,j = 0,0 # starting indices\n",
    "def spiral(arr,i,j,m,n):\n",
    "    if i>=m or j>=n:\n",
    "        return\n",
    "    # First row\n",
    "    for p in range(i,n):\n",
    "        print(arr[i][p],end=\" \")\n",
    "    # Last column\n",
    "    for p in range(i+1,m):\n",
    "        print(arr[p][n-1],end=\" \")\n",
    "    # Last row if last and first row are not same\n",
    "    if (m-1)!=i:\n",
    "        for p in range(n-2,j-1,-1):\n",
    "            print(arr[m-1][p],end=\" \")\n",
    "    # First column if last and first column are not same\n",
    "    if (n-1)!=j:\n",
    "        for p in range(m-2,i,-1):\n",
    "            print(arr[p][j],end=\" \")\n",
    "    spiral(arr,i+1,j+1,m-1,n-1)\n",
    "    \n",
    "spiral(mat,i,j,R,C)"
   ]
  },
  {
   "cell_type": "code",
   "execution_count": 85,
   "metadata": {},
   "outputs": [
    {
     "name": "stdout",
     "output_type": "stream",
     "text": [
      "15 16 17 9 \n",
      "18 19 10 11 \n",
      "11 12 13 8 \n"
     ]
    }
   ],
   "source": [
    "Show(mat)"
   ]
  },
  {
   "cell_type": "code",
   "execution_count": null,
   "metadata": {},
   "outputs": [],
   "source": []
  }
 ],
 "metadata": {
  "kernelspec": {
   "display_name": "Python 3",
   "language": "python",
   "name": "python3"
  },
  "language_info": {
   "codemirror_mode": {
    "name": "ipython",
    "version": 3
   },
   "file_extension": ".py",
   "mimetype": "text/x-python",
   "name": "python",
   "nbconvert_exporter": "python",
   "pygments_lexer": "ipython3",
   "version": "3.7.6"
  }
 },
 "nbformat": 4,
 "nbformat_minor": 4
}
