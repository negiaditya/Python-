{
 "cells": [
  {
   "cell_type": "code",
   "execution_count": 10,
   "metadata": {},
   "outputs": [
    {
     "data": {
      "text/plain": [
       "3"
      ]
     },
     "execution_count": 10,
     "metadata": {},
     "output_type": "execute_result"
    }
   ],
   "source": [
    "def binarysearch(arr,ele,low,high):\n",
    "    mid = (low)+(high-low)//2\n",
    "    if low>high:\n",
    "        return \n",
    "    if arr[mid] == ele:\n",
    "        return mid\n",
    "    elif arr[mid] > ele:\n",
    "        return binarysearch(arr,ele,low,mid-1)\n",
    "    else:\n",
    "        return binarysearch(arr,ele,mid+1,high)\n",
    "    \n",
    "binarysearch([5,6,19,23,101,111],23,0,6)"
   ]
  },
  {
   "cell_type": "code",
   "execution_count": 7,
   "metadata": {},
   "outputs": [
    {
     "data": {
      "text/plain": [
       "2"
      ]
     },
     "execution_count": 7,
     "metadata": {},
     "output_type": "execute_result"
    }
   ],
   "source": [
    "def leftmost(arr,ele,low,high):\n",
    "    mid = (low)+(high-low)//2\n",
    "    if low>high:\n",
    "        return -1\n",
    "    if arr[mid]==ele and (mid==0 or arr[mid-1]!=ele):\n",
    "        return mid\n",
    "    if arr[mid]>=ele:\n",
    "        return leftmost(arr,ele,low,mid-1)\n",
    "    else:\n",
    "        return leftmost(arr,ele,mid+1,high)\n",
    "\n",
    "leftmost([1,2,3,3,3,3,5,6],3,0,8)"
   ]
  },
  {
   "cell_type": "code",
   "execution_count": 16,
   "metadata": {},
   "outputs": [
    {
     "data": {
      "text/plain": [
       "5"
      ]
     },
     "execution_count": 16,
     "metadata": {},
     "output_type": "execute_result"
    }
   ],
   "source": [
    "def rightmost(arr,ele,low,high,length):\n",
    "    mid = (low)+(high-low)//2\n",
    "    if low>high:\n",
    "        return -1\n",
    "    if arr[mid]==ele and (mid==length-1 or arr[mid+1]!=ele):\n",
    "        return mid\n",
    "    if arr[mid]>ele:\n",
    "        return rightmost(arr,ele,low,mid-1,length)\n",
    "    else:\n",
    "        return rightmost(arr,ele,mid+1,high,length)\n",
    "\n",
    "rightmost([1,2,3,3,3,3,5,6],3,0,8,8)"
   ]
  },
  {
   "cell_type": "code",
   "execution_count": 18,
   "metadata": {},
   "outputs": [
    {
     "data": {
      "text/plain": [
       "4"
      ]
     },
     "execution_count": 18,
     "metadata": {},
     "output_type": "execute_result"
    }
   ],
   "source": [
    "def count(arr,ele,low,high):\n",
    "    x = leftmost(arr,ele,low,high)\n",
    "    y = rightmost(arr,ele,low,high,len(arr))\n",
    "    return (y-x+1)\n",
    "count([1,2,3,3,3,3,5,6],3,0,8)"
   ]
  },
  {
   "cell_type": "code",
   "execution_count": 22,
   "metadata": {},
   "outputs": [
    {
     "data": {
      "text/plain": [
       "6"
      ]
     },
     "execution_count": 22,
     "metadata": {},
     "output_type": "execute_result"
    }
   ],
   "source": [
    "# count 1 in an sorted binary array\n",
    "def count1(arr,low,high):\n",
    "    x = leftmost(arr,1,low,high)\n",
    "    return len(arr)-x\n",
    "count1([0,0,0,0,0,1,1,1,1,1,1],0,7)"
   ]
  },
  {
   "cell_type": "code",
   "execution_count": 29,
   "metadata": {},
   "outputs": [
    {
     "data": {
      "text/plain": [
       "5"
      ]
     },
     "execution_count": 29,
     "metadata": {},
     "output_type": "execute_result"
    }
   ],
   "source": [
    "def counter(arr,ele):\n",
    "    x = arr.index(ele)\n",
    "    y = len(arr)-arr[::-1].index(ele)\n",
    "    return y-x\n",
    "counter([1,2,3,3,3,3,3,5,6],3)"
   ]
  },
  {
   "cell_type": "code",
   "execution_count": 32,
   "metadata": {},
   "outputs": [
    {
     "data": {
      "text/plain": [
       "2"
      ]
     },
     "execution_count": 32,
     "metadata": {},
     "output_type": "execute_result"
    }
   ],
   "source": [
    "def infArr(arr,x):\n",
    "    if arr[0] == x:\n",
    "        return 0\n",
    "    i = 1\n",
    "    while arr[i]<x:\n",
    "        i = i*2\n",
    "    if arr[i]==x:\n",
    "        return i\n",
    "    return binarysearch(arr,x,i//2,i)\n",
    "infArr([1,2,3,4,5,6,7,8,9,10,11,12,13,14,15,16,17,18,19,20,21,22,23,24,25,26,27,28,29,30,31,32,33,34,35,40,50,60,70,80,90,100,101,102,103,104],3)"
   ]
  },
  {
   "cell_type": "markdown",
   "metadata": {},
   "source": [
    "# SOrted rotated arraY"
   ]
  },
  {
   "cell_type": "code",
   "execution_count": 24,
   "metadata": {},
   "outputs": [
    {
     "name": "stdout",
     "output_type": "stream",
     "text": [
      "3\n",
      "2\n",
      "6\n",
      "None\n"
     ]
    }
   ],
   "source": [
    "arr1 = [10,20,40,5,6,7,8]\n",
    "arr2 = [10,20,1,2,3,4,5,6]\n",
    "arr3 = [10,20,30,40,50,60,1]\n",
    "arr4 = [1,2,3,4,5,6,7]\n",
    "def getpivot(arr,low,high):\n",
    "    if low>high:\n",
    "        return -1\n",
    "    if low==high:\n",
    "        return low\n",
    "    mid = (high+low)//2\n",
    "    if mid>low and arr[mid]<arr[mid-1]:\n",
    "        return mid\n",
    "    if mid<high and arr[mid]>arr[mid+1]:\n",
    "        return mid+1\n",
    "    if arr[mid]<=arr[low]:\n",
    "        return getpivot(arr,low,mid-1)\n",
    "    elif arr[mid]>=arr[high]:\n",
    "        return getpivot(arr,mid+1,high)\n",
    "print(getpivot(arr1,0,len(arr1)-1))\n",
    "print(getpivot(arr2,0,len(arr2)-1))\n",
    "print(getpivot(arr3,0,len(arr3)-1))\n",
    "print(getpivot(arr4,0,len(arr4)-1))"
   ]
  },
  {
   "cell_type": "code",
   "execution_count": 37,
   "metadata": {},
   "outputs": [
    {
     "name": "stdout",
     "output_type": "stream",
     "text": [
      "1\n",
      "2\n",
      "5\n",
      "4\n"
     ]
    }
   ],
   "source": [
    "def searchRot(arr,ele):\n",
    "    p = getpivot(arr,0,len(arr)-1)\n",
    "    if p:\n",
    "        if arr[p] == ele:\n",
    "            return p\n",
    "        return binarysearch(arr,ele,0,p-1) or binarysearch(arr,ele,p+1,len(arr))\n",
    "    return binarysearch(arr,ele,0,len(arr))\n",
    "print(searchRot(arr1,20))\n",
    "print(searchRot(arr2,1))\n",
    "print(searchRot(arr3,60))\n",
    "print(searchRot(arr4,5))"
   ]
  },
  {
   "cell_type": "code",
   "execution_count": 40,
   "metadata": {},
   "outputs": [
    {
     "name": "stdout",
     "output_type": "stream",
     "text": [
      "5\n",
      "1\n",
      "1\n",
      "1\n"
     ]
    }
   ],
   "source": [
    "def minRot(arr):\n",
    "    p = getpivot(arr,0,len(arr)-1)\n",
    "    if p:\n",
    "        return arr[p]\n",
    "    return arr[0]\n",
    "print(minRot(arr1))\n",
    "print(minRot(arr2))\n",
    "print(minRot(arr3))\n",
    "print(minRot(arr4))"
   ]
  },
  {
   "cell_type": "code",
   "execution_count": 42,
   "metadata": {},
   "outputs": [
    {
     "name": "stdout",
     "output_type": "stream",
     "text": [
      "40\n",
      "20\n",
      "60\n",
      "7\n"
     ]
    }
   ],
   "source": [
    "def maxRot(arr):\n",
    "    p = getpivot(arr,0,len(arr)-1)\n",
    "    if p:\n",
    "        return arr[p-1]\n",
    "    return arr[-1]\n",
    "print(maxRot(arr1))\n",
    "print(maxRot(arr2))\n",
    "print(maxRot(arr3))\n",
    "print(maxRot(arr4))"
   ]
  },
  {
   "cell_type": "code",
   "execution_count": 48,
   "metadata": {},
   "outputs": [
    {
     "data": {
      "text/plain": [
       "20"
      ]
     },
     "execution_count": 48,
     "metadata": {},
     "output_type": "execute_result"
    }
   ],
   "source": [
    "# Peak element (bigger than neighbours)\n",
    "ar1 = [10,20,15,5,23,90,67]\n",
    "def peak(arr,low,high):\n",
    "    if arr[low]>arr[low+1]:\n",
    "        return arr[low]\n",
    "    if arr[high]>arr[high-1]:\n",
    "        return arr[high]\n",
    "    if low>high:\n",
    "        return -1\n",
    "    mid = (low+high)//2\n",
    "    if arr[mid]>arr[mid-1] and arr[mid]>arr[mid+1]:\n",
    "        return arr[mid]\n",
    "    if arr[mid]>arr[mid-1] and arr[mid]<arr[mid+1]:\n",
    "        return peak(arr,mid+1,high)\n",
    "    elif arr[mid]:\n",
    "        return peak(arr,low,mid-1)\n",
    "peak(ar1,0,len(ar1)-1)\n",
    "    "
   ]
  },
  {
   "cell_type": "code",
   "execution_count": 69,
   "metadata": {},
   "outputs": [
    {
     "data": {
      "text/plain": [
       "95"
      ]
     },
     "execution_count": 69,
     "metadata": {},
     "output_type": "execute_result"
    }
   ],
   "source": [
    "# Given a number find its square root (floor)\n",
    "def sqrt1(x):  # (rootx)\n",
    "    i = 0\n",
    "    while(i*i<=x):\n",
    "        i += 1\n",
    "    return i-1\n",
    "sqrt(9128)"
   ]
  },
  {
   "cell_type": "code",
   "execution_count": 72,
   "metadata": {},
   "outputs": [
    {
     "data": {
      "text/plain": [
       "95"
      ]
     },
     "execution_count": 72,
     "metadata": {},
     "output_type": "execute_result"
    }
   ],
   "source": [
    "def sqrt2(x):  # log(x)\n",
    "    if x==0 or x==1:\n",
    "        return x\n",
    "    low,high=1,x\n",
    "    while(low<high):\n",
    "        mid = (low+high)//2\n",
    "        if mid*mid == x:\n",
    "            return mid\n",
    "        if mid*mid < x:\n",
    "            low = mid + 1\n",
    "            ans = mid\n",
    "        else:\n",
    "            high = mid-1\n",
    "    return ans\n",
    "sqrt2(9128)"
   ]
  },
  {
   "cell_type": "code",
   "execution_count": 79,
   "metadata": {},
   "outputs": [
    {
     "data": {
      "text/plain": [
       "((8, 3), (0, 19))"
      ]
     },
     "execution_count": 79,
     "metadata": {},
     "output_type": "execute_result"
    }
   ],
   "source": [
    "# For a unsorted array find elements with a given sum\n",
    "arr = [1,12,5,19,6,12,28,32,0]\n",
    "def pair1(arr,x):   #O(n) and space 0(n)\n",
    "    # Returns indices and values\n",
    "    dic = {}\n",
    "    for i in range(len(arr)):\n",
    "        if x-arr[i] in dic:\n",
    "            return ((i,dic[x-arr[i]]),(arr[i],x-arr[i]))\n",
    "        dic[arr[i]] = i\n",
    "    return -1\n",
    "pair1(arr,19)\n",
    "        "
   ]
  },
  {
   "cell_type": "markdown",
   "metadata": {},
   "source": [
    "# Two pointer approach"
   ]
  },
  {
   "cell_type": "code",
   "execution_count": 101,
   "metadata": {},
   "outputs": [
    {
     "data": {
      "text/plain": [
       "(0, 19)"
      ]
     },
     "execution_count": 101,
     "metadata": {},
     "output_type": "execute_result"
    }
   ],
   "source": [
    "# For a sorted array find pair with a given sum\n",
    "arr = [0, 1, 5, 6, 12, 12, 19, 28, 32]\n",
    "def pair2(arr,x):\n",
    "    \"\"\" Two pointer approach\"\"\"\n",
    "    i,j = 0,len(arr)-1\n",
    "    while(i<j):\n",
    "        if arr[i]+arr[j] == x:\n",
    "            return (arr[i],arr[j])\n",
    "        if arr[i]+arr[j]<x:\n",
    "            i += 1\n",
    "        else:\n",
    "            j -= 1\n",
    "pair2(arr,19)"
   ]
  },
  {
   "cell_type": "code",
   "execution_count": 103,
   "metadata": {},
   "outputs": [
    {
     "data": {
      "text/plain": [
       "-1"
      ]
     },
     "execution_count": 103,
     "metadata": {},
     "output_type": "execute_result"
    }
   ],
   "source": [
    "# For a sorted array find triplets with a given sum\n",
    "arr = [0, 1, 5, 6, 12, 12, 19, 28, 32]\n",
    "def triplet1(arr,x):\n",
    "    for i in range(len(arr)):\n",
    "        idx = pair2(arr[i:],x-arr[i])\n",
    "        if idx:\n",
    "            return tuple([i])+idx\n",
    "    return -1\n",
    "triplet(arr,4)"
   ]
  },
  {
   "cell_type": "code",
   "execution_count": 1,
   "metadata": {},
   "outputs": [
    {
     "data": {
      "text/plain": [
       "9"
      ]
     },
     "execution_count": 1,
     "metadata": {},
     "output_type": "execute_result"
    }
   ],
   "source": [
    "# Count pairs with given sum\n",
    "arr1 = [10, 12, 10, 15, -1, 7, 6, 5, 4, 2, 1, 1, 1]\n",
    "arr2 = [1,5,7,-1]\n",
    "def getsum2(arr,x):\n",
    "    dic = {}\n",
    "    for i in range(len(arr)):\n",
    "        if arr[i] in dic:\n",
    "            dic[arr[i]] += 1\n",
    "        else:\n",
    "            dic[arr[i]] = 1\n",
    "    \n",
    "    cnt = 0\n",
    "    for i in range(len(arr)):\n",
    "        if x-arr[i] in dic:\n",
    "            cnt += dic[x-arr[i]]\n",
    "        if x-arr[i] == arr[i]:\n",
    "            cnt -= 1\n",
    "    return cnt//2\n",
    "        \n",
    "getsum2(arr1,11)      "
   ]
  },
  {
   "cell_type": "code",
   "execution_count": 3,
   "metadata": {},
   "outputs": [
    {
     "name": "stdout",
     "output_type": "stream",
     "text": [
      "-3 -1 2\n",
      "-3 0 1\n"
     ]
    }
   ],
   "source": [
    "# Count triplets with given sum\n",
    "arr = [ 0, -1, 2, -3, 1 ]\n",
    "def getsum3(arr,x):\n",
    "    temp = sorted(arr)\n",
    "    cnt = 0\n",
    "    for a in range(len(temp)-1):\n",
    "        i,j = a+1,len(temp)-1\n",
    "        while(i<j):\n",
    "            if x-temp[a]-temp[i]==temp[j]:\n",
    "                cnt += 1\n",
    "                print(temp[a],temp[i],temp[j])\n",
    "                i += 1\n",
    "                j -= 1\n",
    "            elif x-temp[a]-temp[i]>temp[j]:\n",
    "                i += 1\n",
    "            else:\n",
    "                j -= 1\n",
    "    return cnt\n",
    "getsum3(arr,-2)\n",
    "                "
   ]
  },
  {
   "cell_type": "code",
   "execution_count": 5,
   "metadata": {},
   "outputs": [
    {
     "name": "stdout",
     "output_type": "stream",
     "text": [
      "6 8 10\n",
      "3 4 5\n"
     ]
    }
   ],
   "source": [
    "# Print all pythagoras triplets in an arraay\n",
    "arr1 = [3, 1, 4, 6, 5, 10, 8]\n",
    "def pytha(arr):\n",
    "    arr = sorted(arr)\n",
    "    for a in range(len(arr)-1,1,-1):\n",
    "        i,j = 0,a-1\n",
    "        while(i<j):\n",
    "            if arr[a]**2 == arr[i]**2 + arr[j]**2:\n",
    "                print(arr[i],arr[j],arr[a])\n",
    "                i += 1\n",
    "                j -= 1\n",
    "            elif arr[a]**2 > arr[i]**2 + arr[j]**2:\n",
    "                i += 1\n",
    "            else:\n",
    "                j -= 1\n",
    "pytha(arr1)\n"
   ]
  },
  {
   "cell_type": "code",
   "execution_count": 3,
   "metadata": {},
   "outputs": [],
   "source": [
    "from collections import Counter\n",
    "arr=[1 ,3 ,9 ,9 ,27 ,81]\n",
    "dic = Counter(arr)"
   ]
  },
  {
   "cell_type": "code",
   "execution_count": 12,
   "metadata": {},
   "outputs": [
    {
     "data": {
      "text/plain": [
       "0"
      ]
     },
     "execution_count": 12,
     "metadata": {},
     "output_type": "execute_result"
    }
   ],
   "source": [
    "arr.count(1000)"
   ]
  },
  {
   "cell_type": "code",
   "execution_count": null,
   "metadata": {},
   "outputs": [],
   "source": []
  }
 ],
 "metadata": {
  "kernelspec": {
   "display_name": "Python 3",
   "language": "python",
   "name": "python3"
  },
  "language_info": {
   "codemirror_mode": {
    "name": "ipython",
    "version": 3
   },
   "file_extension": ".py",
   "mimetype": "text/x-python",
   "name": "python",
   "nbconvert_exporter": "python",
   "pygments_lexer": "ipython3",
   "version": "3.7.6"
  }
 },
 "nbformat": 4,
 "nbformat_minor": 4
}
