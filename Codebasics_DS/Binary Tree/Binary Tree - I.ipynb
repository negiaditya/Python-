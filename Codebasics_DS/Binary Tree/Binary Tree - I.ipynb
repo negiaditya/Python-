{
 "cells": [
  {
   "cell_type": "code",
   "execution_count": 34,
   "metadata": {},
   "outputs": [],
   "source": [
    "class BinarySearchTreeNode:\n",
    "    def __init__(self, data):\n",
    "        self.data = data\n",
    "        self.left = None\n",
    "        self.right = None\n",
    "\n",
    "    def add_child(self, data):\n",
    "        if data == self.data:\n",
    "            return # node already exist\n",
    "\n",
    "        if data < self.data:\n",
    "            if self.left:\n",
    "                self.left.add_child(data)\n",
    "            else:\n",
    "                self.left = BinarySearchTreeNode(data)\n",
    "        else:\n",
    "            if self.right:\n",
    "                self.right.add_child(data)\n",
    "            else:\n",
    "                self.right = BinarySearchTreeNode(data)\n",
    "\n",
    "\n",
    "    def search(self, val):\n",
    "        if self.data == val:\n",
    "            return True\n",
    "\n",
    "        if val < self.data:\n",
    "            if self.left:\n",
    "                return self.left.search(val)\n",
    "            else:\n",
    "                return False\n",
    "\n",
    "        if val > self.data:\n",
    "            if self.right:\n",
    "                return self.right.search(val)\n",
    "            else:\n",
    "                return False\n",
    "\n",
    "    def in_order_traversal(self):\n",
    "        elements = []\n",
    "        if self.left:\n",
    "            elements += self.left.in_order_traversal()\n",
    "\n",
    "        elements.append(self.data)\n",
    "\n",
    "        if self.right:\n",
    "            elements += self.right.in_order_traversal()\n",
    "\n",
    "        return elements"
   ]
  },
  {
   "cell_type": "code",
   "execution_count": 35,
   "metadata": {},
   "outputs": [],
   "source": [
    "def build_tree(elements):\n",
    "    print(\"Building tree with these elements:\",elements)\n",
    "    root = BinarySearchTreeNode(elements[0])\n",
    "\n",
    "    for i in range(1,len(elements)):\n",
    "        root.add_child(elements[i])\n",
    "\n",
    "    return root"
   ]
  },
  {
   "cell_type": "code",
   "execution_count": 36,
   "metadata": {},
   "outputs": [
    {
     "name": "stdout",
     "output_type": "stream",
     "text": [
      "Building tree with these elements: [17, 4, 1, 20, 9, 23, 18, 34, 4]\n"
     ]
    }
   ],
   "source": [
    "numbers = [17,4,1,20,9,23,18,34,4]\n",
    "numbers_tree = build_tree(numbers)\n"
   ]
  },
  {
   "cell_type": "code",
   "execution_count": 37,
   "metadata": {},
   "outputs": [
    {
     "name": "stdout",
     "output_type": "stream",
     "text": [
      "In order traversal gives this sorted list: [1, 4, 9, 17, 18, 20, 23, 34]\n"
     ]
    }
   ],
   "source": [
    "print(\"In order traversal gives this sorted list:\",numbers_tree.in_order_traversal())"
   ]
  },
  {
   "cell_type": "code",
   "execution_count": 38,
   "metadata": {},
   "outputs": [
    {
     "name": "stdout",
     "output_type": "stream",
     "text": [
      "Number is in the list?  True\n"
     ]
    }
   ],
   "source": [
    "print(\"Number is in the list? \", numbers_tree.search(17))"
   ]
  },
  {
   "cell_type": "markdown",
   "metadata": {},
   "source": [
    "###### Add following methods to BinarySearchTreeNode class \n",
    "\n",
    "1. find_min(): finds minimum element in entire binary tree\n",
    "2. find_max(): finds maximum element in entire binary tree\n",
    "3. calculate_sum(): calcualtes sum of all elements\n",
    "4. post_order_traversal(): performs post order traversal of a binary tree\n",
    "5. pre_order_traversal(): perofrms pre order traversal of a binary tree"
   ]
  },
  {
   "cell_type": "code",
   "execution_count": 104,
   "metadata": {},
   "outputs": [],
   "source": [
    "class BinarySearchTreeNode:\n",
    "    def __init__(self, data):\n",
    "        self.data = data\n",
    "        self.left = None\n",
    "        self.right = None\n",
    "\n",
    "    def add_child(self, data):\n",
    "        if data == self.data:\n",
    "            return # node already exist\n",
    "\n",
    "        if data < self.data:\n",
    "            if self.left:\n",
    "                self.left.add_child(data)\n",
    "            else:\n",
    "                self.left = BinarySearchTreeNode(data)\n",
    "        else:\n",
    "            if self.right:\n",
    "                self.right.add_child(data)\n",
    "            else:\n",
    "                self.right = BinarySearchTreeNode(data)\n",
    "\n",
    "\n",
    "    def search(self, val):\n",
    "        if self.data == val:\n",
    "            return True\n",
    "\n",
    "        if val < self.data:\n",
    "            if self.left:\n",
    "                return self.left.search(val)\n",
    "            else:\n",
    "                return False\n",
    "\n",
    "        if val > self.data:\n",
    "            if self.right:\n",
    "                return self.right.search(val)\n",
    "            else:\n",
    "                return False\n",
    "\n",
    "    def in_order_traversal(self):\n",
    "        elements = []\n",
    "        if self.left:\n",
    "            elements += self.left.in_order_traversal()\n",
    "\n",
    "        elements.append(self.data)\n",
    "\n",
    "        if self.right:\n",
    "            elements += self.right.in_order_traversal()\n",
    "\n",
    "        return elements\n",
    "\n",
    "    def post_order_traversal(self):\n",
    "        elements = []\n",
    "        if self.left:\n",
    "            elements += self.left.post_order_traversal()\n",
    "        if self.right:\n",
    "            elements += self.right.post_order_traversal()\n",
    "\n",
    "        elements.append(self.data)\n",
    "\n",
    "        return elements\n",
    "\n",
    "    def pre_order_traversal(self):\n",
    "        elements = [self.data]\n",
    "        if self.left:\n",
    "            elements += self.left.pre_order_traversal()\n",
    "        if self.right:\n",
    "            elements += self.right.pre_order_traversal()\n",
    "\n",
    "        return elements\n",
    "\n",
    "    def find_max(self):\n",
    "        if self.right is None:\n",
    "            return self.data\n",
    "        return self.right.find_max()\n",
    "\n",
    "    def find_min(self):\n",
    "        if self.left is None:\n",
    "            return self.data\n",
    "        return self.left.find_min()\n",
    "\n",
    "    def calculate_sum(self):\n",
    "        left_sum = self.left.calculate_sum() if self.left else 0\n",
    "        right_sum = self.right.calculate_sum() if self.right else 0\n",
    "        return self.data + left_sum + right_sum\n",
    "    \n",
    "    \"\"\"def calculate_sum(self):\n",
    "        s = 0\n",
    "        if self.left:\n",
    "            s += self.left.calculate_sum()\n",
    "\n",
    "        s += self.data\n",
    "\n",
    "        if self.right:\n",
    "            s += self.right.calculate_sum()\n",
    "\n",
    "        return s\n",
    "    \"\"\"    "
   ]
  },
  {
   "cell_type": "code",
   "execution_count": 105,
   "metadata": {},
   "outputs": [],
   "source": [
    "def build_tree(elements):\n",
    "    root = BinarySearchTreeNode(elements[0])\n",
    "\n",
    "    for i in range(1,len(elements)):\n",
    "        root.add_child(elements[i])\n",
    "\n",
    "    return root"
   ]
  },
  {
   "cell_type": "code",
   "execution_count": 100,
   "metadata": {},
   "outputs": [
    {
     "name": "stdout",
     "output_type": "stream",
     "text": [
      "Building tree with these elements: [17, 4, 1, 20, 9, 23, 18, 34, 4]\n"
     ]
    }
   ],
   "source": [
    "numbers = [17,4,1,20,9,23,18,34,4]\n",
    "numbers_tree = build_tree(numbers)\n"
   ]
  },
  {
   "cell_type": "code",
   "execution_count": 106,
   "metadata": {},
   "outputs": [
    {
     "name": "stdout",
     "output_type": "stream",
     "text": [
      "Input numbers: [17, 4, 1, 20, 9, 23, 18, 34]\n",
      "Min: 1\n",
      "Max: 34\n",
      "Sum: 126\n",
      "In order traversal: [1, 4, 9, 17, 18, 20, 23, 34]\n",
      "Pre order traversal: [17, 4, 1, 9, 20, 18, 23, 34]\n",
      "Post order traversal: [1, 9, 4, 18, 34, 23, 20, 17]\n"
     ]
    }
   ],
   "source": [
    "numbers = [17, 4, 1, 20, 9, 23, 18, 34]\n",
    "\n",
    "#numbers = [15,12,7,14,27,20,23,88 ]\n",
    "\n",
    "numbers_tree = build_tree(numbers)\n",
    "print(\"Input numbers:\",numbers)\n",
    "print(\"Min:\",numbers_tree.find_min())\n",
    "print(\"Max:\",numbers_tree.find_max())\n",
    "print(\"Sum:\", numbers_tree.calculate_sum())\n",
    "print(\"In order traversal:\", numbers_tree.in_order_traversal())\n",
    "print(\"Pre order traversal:\", numbers_tree.pre_order_traversal())\n",
    "print(\"Post order traversal:\", numbers_tree.post_order_traversal())"
   ]
  }
 ],
 "metadata": {
  "kernelspec": {
   "display_name": "Python 3",
   "language": "python",
   "name": "python3"
  },
  "language_info": {
   "codemirror_mode": {
    "name": "ipython",
    "version": 3
   },
   "file_extension": ".py",
   "mimetype": "text/x-python",
   "name": "python",
   "nbconvert_exporter": "python",
   "pygments_lexer": "ipython3",
   "version": "3.7.6"
  }
 },
 "nbformat": 4,
 "nbformat_minor": 4
}
