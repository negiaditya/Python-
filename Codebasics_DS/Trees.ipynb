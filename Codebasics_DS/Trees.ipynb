{
 "cells": [
  {
   "cell_type": "markdown",
   "metadata": {},
   "source": [
    "# Trees"
   ]
  },
  {
   "cell_type": "code",
   "execution_count": 16,
   "metadata": {},
   "outputs": [],
   "source": [
    "class TreeNode:\n",
    "    def __init__(self,data):\n",
    "        self.data = data\n",
    "        self.children = []\n",
    "        self.parent = None\n",
    "    \n",
    "    def add_child(self,child):\n",
    "        child.parent = self\n",
    "        self.children.append(child)\n",
    "    \n",
    "    def get_level(self):\n",
    "        level = 0\n",
    "        p = self.parent\n",
    "        while p:\n",
    "            level +=1\n",
    "            p = p.parent\n",
    "        return level\n",
    "        \n",
    "    def print_tree(self):\n",
    "        spaces = ' ' * self.get_level() * 3\n",
    "        prefix = spaces+'|__' if self.parent else ''\n",
    "        print(prefix + self.data)\n",
    "        if self.children:\n",
    "            for child in self.children:\n",
    "                child.print_tree()\n",
    "        \n",
    "    "
   ]
  },
  {
   "cell_type": "code",
   "execution_count": 17,
   "metadata": {},
   "outputs": [],
   "source": [
    "def build_product_tree():\n",
    "    root = TreeNode(\"Electronics\")\n",
    "    \n",
    "    laptop = TreeNode(\"Laptop\")\n",
    "    laptop.add_child(TreeNode(\"Mac\"))\n",
    "    laptop.add_child(TreeNode(\"Surface\"))\n",
    "    laptop.add_child(TreeNode(\"Thinkpad\"))\n",
    "\n",
    "    cellphone = TreeNode(\"Cell Phone\")\n",
    "    cellphone.add_child(TreeNode(\"iPhone\"))\n",
    "    cellphone.add_child(TreeNode(\"Google Pixel\"))\n",
    "    cellphone.add_child(TreeNode(\"Vivo\"))\n",
    "\n",
    "    tv = TreeNode(\"TV\")\n",
    "    tv.add_child(TreeNode(\"Samsung\"))\n",
    "    tv.add_child(TreeNode(\"LG\"))\n",
    "    \n",
    "    root.add_child(laptop)\n",
    "    root.add_child(cellphone)\n",
    "    root.add_child(tv)\n",
    "    \n",
    "    return root"
   ]
  },
  {
   "cell_type": "code",
   "execution_count": 18,
   "metadata": {},
   "outputs": [],
   "source": [
    "a = build_product_tree()"
   ]
  },
  {
   "cell_type": "code",
   "execution_count": 13,
   "metadata": {},
   "outputs": [
    {
     "name": "stdout",
     "output_type": "stream",
     "text": [
      "Vivo\n"
     ]
    }
   ],
   "source": [
    "print(a.children[1].children[2].data)"
   ]
  },
  {
   "cell_type": "code",
   "execution_count": 19,
   "metadata": {},
   "outputs": [
    {
     "name": "stdout",
     "output_type": "stream",
     "text": [
      "Electronics\n",
      "   |__Laptop\n",
      "      |__Mac\n",
      "      |__Surface\n",
      "      |__Thinkpad\n",
      "   |__Cell Phone\n",
      "      |__iPhone\n",
      "      |__Google Pixel\n",
      "      |__Vivo\n",
      "   |__TV\n",
      "      |__Samsung\n",
      "      |__LG\n"
     ]
    }
   ],
   "source": [
    "a.print_tree()"
   ]
  },
  {
   "cell_type": "markdown",
   "metadata": {},
   "source": [
    "### Q1\n",
    "###### Extent tree class built in our main tutorial so that it takes name and designation in data part of TreeNode class. Now extend print_tree function such that it can print either name tree, designation tree or name and designation tree.     \n",
    "    \n",
    "    root_node = build_management_tree()\n",
    "    \n",
    "    root_node.print_tree(\"name\") # prints only name hierarchy\n",
    "    \n",
    "    root_node.print_tree(\"designation\") # prints only designation hierarchy\n",
    "    \n",
    "    root_node.print_tree(\"both\") # prints both (name and designation) hierarchy\n"
   ]
  },
  {
   "cell_type": "code",
   "execution_count": 120,
   "metadata": {},
   "outputs": [],
   "source": [
    "class TreeNode:\n",
    "    def __init__(self,data):\n",
    "        self.data = data\n",
    "        self.children = []\n",
    "        self.parent = None\n",
    "    \n",
    "    def add_child(self,child):\n",
    "        child.parent = self\n",
    "        self.children.append(child)\n",
    "    \n",
    "    def get_level(self):\n",
    "        level = 0\n",
    "        p = self.parent\n",
    "        while p:\n",
    "            level +=1\n",
    "            p = p.parent\n",
    "        return level\n",
    "        \n",
    "    def print_tree(self,mode):\n",
    "        spaces = ' ' * self.get_level() * 3\n",
    "        prefix = spaces+'|__' if self.parent else ''\n",
    "        if mode == 'designation':\n",
    "            print(prefix + str(self.data[0]))\n",
    "        if mode == 'name':\n",
    "            print(prefix + str(self.data[1]))\n",
    "        if mode == 'both':\n",
    "            print(prefix + str(self.data[1]) + '  ('+str(self.data[0])+')')\n",
    "        \n",
    "        if self.children:\n",
    "            for child in self.children:\n",
    "                child.print_tree(mode)"
   ]
  },
  {
   "cell_type": "code",
   "execution_count": 121,
   "metadata": {},
   "outputs": [],
   "source": [
    "def build_product_tree():\n",
    "    root = TreeNode((\"CEO\",\"Nilupul\"))\n",
    "    \n",
    "    Vishwa = TreeNode((\"Infrastructure Head\",\"Vishwa\"))\n",
    "    Vishwa.add_child(TreeNode((\"Cloud Manager\",\"Dhaval\")))\n",
    "    Vishwa.add_child(TreeNode((\"App Manager\",\"Abhijit\")))\n",
    "    \n",
    "    \n",
    "    CTO = TreeNode((\"CTO\",\"Chinmay\"))\n",
    "    CTO.add_child(Vishwa)\n",
    "    CTO.add_child(TreeNode((\"Application Head\",\"Aamir\")))\n",
    "\n",
    "    HR = TreeNode((\"HR Head\",\"Gels\"))\n",
    "    HR.add_child(TreeNode((\"Recruitment Manager\",\"Peter\")))\n",
    "    HR.add_child(TreeNode((\"Policy Manager\",\"Waqas\")))\n",
    "    \n",
    "    root.add_child(CTO)\n",
    "    root.add_child(HR)\n",
    "    \n",
    "    \n",
    "    return root"
   ]
  },
  {
   "cell_type": "code",
   "execution_count": 122,
   "metadata": {},
   "outputs": [],
   "source": [
    "a = build_product_tree()"
   ]
  },
  {
   "cell_type": "code",
   "execution_count": 123,
   "metadata": {},
   "outputs": [
    {
     "name": "stdout",
     "output_type": "stream",
     "text": [
      "Nilupul  (CEO)\n",
      "   |__Chinmay  (CTO)\n",
      "      |__Vishwa  (Infrastructure Head)\n",
      "         |__Dhaval  (Cloud Manager)\n",
      "         |__Abhijit  (App Manager)\n",
      "      |__Aamir  (Application Head)\n",
      "   |__Gels  (HR Head)\n",
      "      |__Peter  (Recruitment Manager)\n",
      "      |__Waqas  (Policy Manager)\n"
     ]
    }
   ],
   "source": [
    "a.print_tree(mode = 'both')"
   ]
  },
  {
   "cell_type": "code",
   "execution_count": 124,
   "metadata": {},
   "outputs": [
    {
     "name": "stdout",
     "output_type": "stream",
     "text": [
      "Nilupul\n",
      "   |__Chinmay\n",
      "      |__Vishwa\n",
      "         |__Dhaval\n",
      "         |__Abhijit\n",
      "      |__Aamir\n",
      "   |__Gels\n",
      "      |__Peter\n",
      "      |__Waqas\n"
     ]
    }
   ],
   "source": [
    "a.print_tree(mode = 'name')"
   ]
  },
  {
   "cell_type": "code",
   "execution_count": 126,
   "metadata": {},
   "outputs": [
    {
     "name": "stdout",
     "output_type": "stream",
     "text": [
      "CEO\n",
      "   |__CTO\n",
      "      |__Infrastructure Head\n",
      "         |__Cloud Manager\n",
      "         |__App Manager\n",
      "      |__Application Head\n",
      "   |__HR Head\n",
      "      |__Recruitment Manager\n",
      "      |__Policy Manager\n"
     ]
    }
   ],
   "source": [
    "a.print_tree(mode = 'designation')"
   ]
  },
  {
   "cell_type": "markdown",
   "metadata": {},
   "source": [
    "### Q2\n",
    "###### Now modify print_tree method to take tree level as input. And that should print tree only upto that level as shown below,\n",
    "\n",
    "root_node.print_tree(n) # n is level upto which print"
   ]
  },
  {
   "cell_type": "code",
   "execution_count": 137,
   "metadata": {},
   "outputs": [],
   "source": [
    "class TreeNode:\n",
    "    def __init__(self,data):\n",
    "        self.data = data\n",
    "        self.children = []\n",
    "        self.parent = None\n",
    "    \n",
    "    def add_child(self,child):\n",
    "        child.parent = self\n",
    "        self.children.append(child)\n",
    "    \n",
    "    def get_level(self):\n",
    "        level = 0\n",
    "        p = self.parent\n",
    "        while p:\n",
    "            level +=1\n",
    "            p = p.parent\n",
    "        return level\n",
    "        \n",
    "    def print_tree(self,n):\n",
    "        level = self.get_level()\n",
    "        if level <= n:\n",
    "            spaces = ' ' * level * 3\n",
    "            prefix = spaces+'|__' if self.parent else ''\n",
    "            print(prefix + self.data)\n",
    "            if self.children:\n",
    "                for child in self.children:\n",
    "                    child.print_tree(n)\n",
    "        "
   ]
  },
  {
   "cell_type": "code",
   "execution_count": 138,
   "metadata": {},
   "outputs": [],
   "source": [
    "def build_product_tree():\n",
    "    root = TreeNode(\"Global\")\n",
    "    \n",
    "    guj = TreeNode(\"Gujarat\")\n",
    "    guj.add_child(TreeNode(\"Ahmedabad\"))\n",
    "    guj.add_child(TreeNode(\"Baroda\"))\n",
    "    \n",
    "    krntk = TreeNode(\"Karnataka\")\n",
    "    krntk.add_child(TreeNode(\"Bangluru\"))\n",
    "    krntk.add_child(TreeNode(\"Mysore\"))\n",
    "    \n",
    "    NJ = TreeNode(\"New Jersey\")\n",
    "    NJ.add_child(TreeNode(\"Princeton\"))\n",
    "    NJ.add_child(TreeNode(\"Trenton\"))\n",
    "    \n",
    "    cal = TreeNode(\"California\")\n",
    "    cal.add_child(TreeNode(\"San Francisco\"))\n",
    "    cal.add_child(TreeNode(\"Mountain View\"))\n",
    "    cal.add_child(TreeNode(\"Palo Alto\"))\n",
    "\n",
    "    IND = TreeNode(\"India\")\n",
    "    IND.add_child(guj)\n",
    "    IND.add_child(krntk)\n",
    "    \n",
    "    US = TreeNode(\"USA\")\n",
    "    US.add_child(NJ)\n",
    "    US.add_child(cal)\n",
    "    \n",
    "    root.add_child(IND)\n",
    "    root.add_child(US)\n",
    " \n",
    "    return root"
   ]
  },
  {
   "cell_type": "code",
   "execution_count": 139,
   "metadata": {},
   "outputs": [],
   "source": [
    "g = build_product_tree()"
   ]
  },
  {
   "cell_type": "code",
   "execution_count": 148,
   "metadata": {},
   "outputs": [
    {
     "name": "stdout",
     "output_type": "stream",
     "text": [
      "Global\n"
     ]
    }
   ],
   "source": [
    "g.print_tree(0)"
   ]
  },
  {
   "cell_type": "code",
   "execution_count": 149,
   "metadata": {},
   "outputs": [
    {
     "name": "stdout",
     "output_type": "stream",
     "text": [
      "Global\n",
      "   |__India\n",
      "   |__USA\n"
     ]
    }
   ],
   "source": [
    "g.print_tree(1)"
   ]
  },
  {
   "cell_type": "code",
   "execution_count": 150,
   "metadata": {},
   "outputs": [
    {
     "name": "stdout",
     "output_type": "stream",
     "text": [
      "Global\n",
      "   |__India\n",
      "      |__Gujarat\n",
      "      |__Karnataka\n",
      "   |__USA\n",
      "      |__New Jersey\n",
      "      |__California\n"
     ]
    }
   ],
   "source": [
    "g.print_tree(2)"
   ]
  },
  {
   "cell_type": "code",
   "execution_count": 151,
   "metadata": {},
   "outputs": [
    {
     "name": "stdout",
     "output_type": "stream",
     "text": [
      "Global\n",
      "   |__India\n",
      "      |__Gujarat\n",
      "         |__Ahmedabad\n",
      "         |__Baroda\n",
      "      |__Karnataka\n",
      "         |__Bangluru\n",
      "         |__Mysore\n",
      "   |__USA\n",
      "      |__New Jersey\n",
      "         |__Princeton\n",
      "         |__Trenton\n",
      "      |__California\n",
      "         |__San Francisco\n",
      "         |__Mountain View\n",
      "         |__Palo Alto\n"
     ]
    }
   ],
   "source": [
    "g.print_tree(3)"
   ]
  },
  {
   "cell_type": "code",
   "execution_count": null,
   "metadata": {},
   "outputs": [],
   "source": []
  }
 ],
 "metadata": {
  "kernelspec": {
   "display_name": "Python 3",
   "language": "python",
   "name": "python3"
  },
  "language_info": {
   "codemirror_mode": {
    "name": "ipython",
    "version": 3
   },
   "file_extension": ".py",
   "mimetype": "text/x-python",
   "name": "python",
   "nbconvert_exporter": "python",
   "pygments_lexer": "ipython3",
   "version": "3.7.6"
  }
 },
 "nbformat": 4,
 "nbformat_minor": 4
}
