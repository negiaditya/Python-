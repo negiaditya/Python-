{
 "cells": [
  {
   "cell_type": "markdown",
   "metadata": {},
   "source": [
    "# HashMaps / HashTables / Dictionary"
   ]
  },
  {
   "cell_type": "code",
   "execution_count": 1,
   "metadata": {},
   "outputs": [],
   "source": [
    "def get_hash(key):\n",
    "    h = 0\n",
    "    for char in key:\n",
    "        h += ord(char)  #ord gives ascee code of letter\n",
    "    return h % 100    #100 is max size"
   ]
  },
  {
   "cell_type": "code",
   "execution_count": 3,
   "metadata": {},
   "outputs": [
    {
     "data": {
      "text/plain": [
       "62"
      ]
     },
     "execution_count": 3,
     "metadata": {},
     "output_type": "execute_result"
    }
   ],
   "source": [
    "get_hash('march 29')"
   ]
  },
  {
   "cell_type": "code",
   "execution_count": 94,
   "metadata": {},
   "outputs": [
    {
     "name": "stdout",
     "output_type": "stream",
     "text": [
      "march 1 : 4\n",
      "march 2 : 5\n",
      "march 3 : 6\n",
      "march 4 : 7\n",
      "march 5 : 8\n",
      "march 6 : 9\n",
      "march 7 : 10\n",
      "march 8 : 11\n",
      "march 9 : 12\n",
      "march 10 : 52\n",
      "march 11 : 53\n",
      "march 12 : 54\n",
      "march 13 : 55\n",
      "march 14 : 56\n",
      "march 15 : 57\n",
      "march 16 : 58\n",
      "march 17 : 59\n",
      "march 18 : 60\n",
      "march 19 : 61\n",
      "march 20 : 53\n",
      "march 21 : 54\n",
      "march 22 : 55\n",
      "march 23 : 56\n",
      "march 24 : 57\n",
      "march 25 : 58\n",
      "march 26 : 59\n",
      "march 27 : 60\n",
      "march 28 : 61\n",
      "march 29 : 62\n",
      "march 30 : 54\n"
     ]
    }
   ],
   "source": [
    "for val1,val2 in zip(strin,hashed):\n",
    "    print(val1,':',val2)"
   ]
  },
  {
   "cell_type": "code",
   "execution_count": 27,
   "metadata": {},
   "outputs": [],
   "source": [
    "# HashMaP \n",
    "class HashTable:\n",
    "    def __init__(self):\n",
    "        self.MAX = 100\n",
    "        self.arr = [None for i in range(self.MAX)]\n",
    "        self.Key = []\n",
    "    \n",
    "    #get hash value of a key\n",
    "    def get_hash(self,key):\n",
    "        h = 0\n",
    "        for char in key:\n",
    "            h += ord(char)\n",
    "        return h % self.MAX\n",
    "    \n",
    "    #add a key,val pair into hash table\n",
    "    def add(self,key,val):\n",
    "        ind = self.get_hash(key)\n",
    "        self.arr[ind] = val\n",
    "        self.Key.append(key)\n",
    "   \n",
    "    #input a key, get its corresponding value\n",
    "    def get_val(self,key):\n",
    "        ind = self.get_hash(key)\n",
    "        return self.arr[ind]\n",
    "    \n",
    "    #iput a val,get its corresponding key\n",
    "    def get_key(self,val):\n",
    "        pos = t.arr.index(val)\n",
    "        for k in self.Key:\n",
    "            ind = get_hash(k)\n",
    "            if ind == pos:\n",
    "                return k\n",
    "        "
   ]
  },
  {
   "cell_type": "code",
   "execution_count": 28,
   "metadata": {},
   "outputs": [
    {
     "name": "stdout",
     "output_type": "stream",
     "text": [
      "130\n",
      "march 6\n"
     ]
    }
   ],
   "source": [
    "t = HashTable()\n",
    "t.add('march 6',130)\n",
    "print(t.get_val('march 6'))\n",
    "print(t.get_key(130))"
   ]
  },
  {
   "cell_type": "code",
   "execution_count": 53,
   "metadata": {},
   "outputs": [],
   "source": [
    "# Hashmap using python operators\n",
    "# __getitem__(a,b) --> t[b] return the value of a at index b\n",
    "# __setitem__(a,b,c) --> t[b] = c return the value of a at index b to c\n",
    "# __delitem__(a,b) --> del t[b]  Renove the value of a at index b\n",
    "\n",
    "class HashTab:\n",
    "    def __init__(self):\n",
    "        self.MAX = 100\n",
    "        self.arr = [None for i in range(self.MAX)]\n",
    "        \n",
    "    \n",
    "    def get_hash(self,key):\n",
    "        h = 0\n",
    "        for char in key:\n",
    "            h += ord(char)\n",
    "        return h % self.MAX\n",
    "    \n",
    "    def __setitem__(self,key,val):\n",
    "        ind = self.get_hash(key)\n",
    "        self.arr[ind] = val\n",
    "    \n",
    "    def __getitem__(self,key):\n",
    "        ind = self.get_hash(key)\n",
    "        return self.arr[ind]\n",
    "    \n",
    "    def __delitem__(self,key):\n",
    "        h = self.get_hash(key)\n",
    "        self.arr[h] = None\n",
    "    \n",
    "    "
   ]
  },
  {
   "cell_type": "code",
   "execution_count": 46,
   "metadata": {},
   "outputs": [],
   "source": [
    "dic = HashTab()\n",
    "dic['march 6'] = 130\n",
    "dic['march 1'] = 20\n",
    "dic['dec 17'] = 27"
   ]
  },
  {
   "cell_type": "code",
   "execution_count": 47,
   "metadata": {},
   "outputs": [
    {
     "data": {
      "text/plain": [
       "27"
      ]
     },
     "execution_count": 47,
     "metadata": {},
     "output_type": "execute_result"
    }
   ],
   "source": [
    "dic['dec 17']"
   ]
  },
  {
   "cell_type": "code",
   "execution_count": 49,
   "metadata": {},
   "outputs": [],
   "source": [
    "del dic['march 6']"
   ]
  },
  {
   "cell_type": "markdown",
   "metadata": {},
   "source": [
    "# Handling collisions in hashtables "
   ]
  },
  {
   "cell_type": "code",
   "execution_count": 153,
   "metadata": {},
   "outputs": [],
   "source": [
    "# Handling with chaining \n",
    "class Dict:\n",
    "    def __init__(self):\n",
    "        self.MAX = 10\n",
    "        self.arr = [[] for i in range(self.MAX)]\n",
    "        \n",
    "    \n",
    "    def get_hash(self,key):\n",
    "        h = 0\n",
    "        for char in key:\n",
    "            h += ord(char)\n",
    "        return h % self.MAX\n",
    "    \n",
    "    def __setitem__(self,key,val):\n",
    "        ind = self.get_hash(key)\n",
    "        found = False\n",
    "        for idx,element in enumerate(self.arr[ind]):  #If key already exists update the value\n",
    "            if len(element) == 2 and element[0] == key:\n",
    "                self.arr[ind][idx] = (key,val)\n",
    "                found = True\n",
    "                break\n",
    "        \n",
    "        if not found:  #If key  \n",
    "            self.arr[ind].append((key,val))\n",
    "    \n",
    "    def __getitem__(self,key):\n",
    "        ind = self.get_hash(key)\n",
    "        for element in self.arr[ind]:\n",
    "            if element[0] == key:\n",
    "                return element[1]         \n",
    "    \n",
    "    def __delitem__(self,key):\n",
    "        h = self.get_hash(key)\n",
    "        for idx,element in enumerate(self.arr[h]):\n",
    "            if key == element[0]:\n",
    "                del self.arr[h][idx]"
   ]
  },
  {
   "cell_type": "code",
   "execution_count": 106,
   "metadata": {},
   "outputs": [],
   "source": [
    "dic = Dict()\n",
    "dic['march 10'] = 130\n",
    "dic['march 1'] = 20\n",
    "dic['march 21'] = 27\n",
    "dic['march 11'] = 32\n",
    "dic['march 12'] = 9\n",
    "dic['march 11'] = 91"
   ]
  },
  {
   "cell_type": "code",
   "execution_count": 110,
   "metadata": {},
   "outputs": [
    {
     "data": {
      "text/plain": [
       "[[],\n",
       " [],\n",
       " [('march 10', 130)],\n",
       " [('march 11', 91)],\n",
       " [('march 1', 20), ('march 12', 9)],\n",
       " [],\n",
       " [],\n",
       " [],\n",
       " [],\n",
       " []]"
      ]
     },
     "execution_count": 110,
     "metadata": {},
     "output_type": "execute_result"
    }
   ],
   "source": [
    "dic.arr"
   ]
  },
  {
   "cell_type": "code",
   "execution_count": 109,
   "metadata": {},
   "outputs": [],
   "source": [
    "del dic['march 21']"
   ]
  },
  {
   "cell_type": "code",
   "execution_count": 112,
   "metadata": {},
   "outputs": [
    {
     "data": {
      "text/plain": [
       "9"
      ]
     },
     "execution_count": 112,
     "metadata": {},
     "output_type": "execute_result"
    }
   ],
   "source": [
    "dic['march 12']"
   ]
  },
  {
   "cell_type": "markdown",
   "metadata": {},
   "source": [
    "# Exercise1\n",
    "##### 'nyc_weather.csv' contains new york city weather for first few days in the month of January. \n",
    "Write a program that can answer following,\n",
    "\n",
    " i. What was the average temperature in first week of Jan\n",
    " \n",
    " ii.What was the maximum temperature in first 10 days of Jan\n",
    "\n",
    "Figure out data structure that is best for this problem"
   ]
  },
  {
   "cell_type": "code",
   "execution_count": 120,
   "metadata": {},
   "outputs": [],
   "source": [
    "weather = []\n",
    "temp = []\n",
    "with open('nyc_weather.csv','r') as f:\n",
    "    next(f)\n",
    "    for line in f:\n",
    "        tokens = line.split(',')\n",
    "        date = tokens[0]\n",
    "        temperature = int(tokens[1])\n",
    "        temp.append(temperature)\n",
    "        weather.append([date,temperature])"
   ]
  },
  {
   "cell_type": "code",
   "execution_count": 122,
   "metadata": {},
   "outputs": [
    {
     "data": {
      "text/plain": [
       "([['Jan 1', 27],\n",
       "  ['Jan 2', 31],\n",
       "  ['Jan 3', 23],\n",
       "  ['Jan 4', 34],\n",
       "  ['Jan 5', 37],\n",
       "  ['Jan 6', 38],\n",
       "  ['Jan 7', 29],\n",
       "  ['Jan 8', 30],\n",
       "  ['Jan 9', 35],\n",
       "  ['Jan 10', 30]],\n",
       " [27, 31, 23, 34, 37, 38, 29, 30, 35, 30])"
      ]
     },
     "execution_count": 122,
     "metadata": {},
     "output_type": "execute_result"
    }
   ],
   "source": [
    "weather,temp"
   ]
  },
  {
   "cell_type": "code",
   "execution_count": 125,
   "metadata": {},
   "outputs": [
    {
     "data": {
      "text/plain": [
       "31.285714285714285"
      ]
     },
     "execution_count": 125,
     "metadata": {},
     "output_type": "execute_result"
    }
   ],
   "source": [
    "# 1.\n",
    "sum(temp[:7])/7"
   ]
  },
  {
   "cell_type": "code",
   "execution_count": 126,
   "metadata": {},
   "outputs": [
    {
     "data": {
      "text/plain": [
       "38"
      ]
     },
     "execution_count": 126,
     "metadata": {},
     "output_type": "execute_result"
    }
   ],
   "source": [
    "#2.\n",
    "max(temp)"
   ]
  },
  {
   "cell_type": "markdown",
   "metadata": {},
   "source": [
    "# Exercise2\n",
    "##### nyc_weather.csv contains new york city weather for first few days in the month of January.\n",
    "Write a program that can answer following,\n",
    "\n",
    " i. What was the temperature on Jan 9?\n",
    " \n",
    " ii.What was the temperature on Jan 4?\n",
    " \n",
    " Figure out data structure that is best for this problem"
   ]
  },
  {
   "cell_type": "code",
   "execution_count": 127,
   "metadata": {},
   "outputs": [],
   "source": [
    "weather_dic = {}\n",
    "with open('nyc_weather.csv','r') as f:\n",
    "    next(f)\n",
    "    for line in f:\n",
    "        tokens = line.split(',')\n",
    "        date = tokens[0]\n",
    "        temperature = int(tokens[1])\n",
    "        weather_dic[date] = temperature"
   ]
  },
  {
   "cell_type": "code",
   "execution_count": 128,
   "metadata": {},
   "outputs": [
    {
     "data": {
      "text/plain": [
       "{'Jan 1': 27,\n",
       " 'Jan 2': 31,\n",
       " 'Jan 3': 23,\n",
       " 'Jan 4': 34,\n",
       " 'Jan 5': 37,\n",
       " 'Jan 6': 38,\n",
       " 'Jan 7': 29,\n",
       " 'Jan 8': 30,\n",
       " 'Jan 9': 35,\n",
       " 'Jan 10': 30}"
      ]
     },
     "execution_count": 128,
     "metadata": {},
     "output_type": "execute_result"
    }
   ],
   "source": [
    "weather_dic"
   ]
  },
  {
   "cell_type": "code",
   "execution_count": 130,
   "metadata": {},
   "outputs": [
    {
     "name": "stdout",
     "output_type": "stream",
     "text": [
      "35\n",
      "34\n"
     ]
    }
   ],
   "source": [
    "#1. \n",
    "print(weather_dic['Jan 9'])\n",
    "#2.\n",
    "print(weather_dic['Jan 4'])"
   ]
  },
  {
   "cell_type": "markdown",
   "metadata": {},
   "source": [
    "# Exercise3\n",
    "##### poem.txt Contains famous poem \"Road not taken\" by poet Robert Frost. \n",
    "You have to read this file in python and print every word and its count as show below.\n",
    "\n",
    "Think about the best data structure that you can use to solve this problem and figure out why you selected that specific data structure.\n",
    " \n",
    "\n"
   ]
  },
  {
   "cell_type": "code",
   "execution_count": 151,
   "metadata": {},
   "outputs": [],
   "source": [
    "dic = {}\n",
    "with open('poem.txt','r') as f:\n",
    "    for line in f:\n",
    "        words = line.split(' ')\n",
    "        for word in words:\n",
    "            word = word.replace('\\n','')\n",
    "            word = word.replace(',','')\n",
    "            word = word.replace('.','')\n",
    "            if word not in dic.keys():\n",
    "                dic[word] = 1\n",
    "            else:\n",
    "                dic[word] += 1\n",
    "        \n",
    "            \n",
    "        "
   ]
  },
  {
   "cell_type": "code",
   "execution_count": 152,
   "metadata": {},
   "outputs": [
    {
     "data": {
      "text/plain": [
       "{'Two': 2,\n",
       " 'roads': 2,\n",
       " 'diverged': 2,\n",
       " 'in': 3,\n",
       " 'a': 3,\n",
       " 'yellow': 1,\n",
       " 'wood': 2,\n",
       " 'And': 6,\n",
       " 'sorry': 1,\n",
       " 'I': 8,\n",
       " 'could': 2,\n",
       " 'not': 1,\n",
       " 'travel': 1,\n",
       " 'both': 2,\n",
       " 'be': 2,\n",
       " 'one': 3,\n",
       " 'traveler': 1,\n",
       " 'long': 1,\n",
       " 'stood': 1,\n",
       " 'looked': 1,\n",
       " 'down': 1,\n",
       " 'as': 5,\n",
       " 'far': 1,\n",
       " 'To': 1,\n",
       " 'where': 1,\n",
       " 'it': 2,\n",
       " 'bent': 1,\n",
       " 'the': 8,\n",
       " 'undergrowth;': 1,\n",
       " '': 3,\n",
       " 'Then': 1,\n",
       " 'took': 2,\n",
       " 'other': 1,\n",
       " 'just': 1,\n",
       " 'fair': 1,\n",
       " 'having': 1,\n",
       " 'perhaps': 1,\n",
       " 'better': 1,\n",
       " 'claim': 1,\n",
       " 'Because': 1,\n",
       " 'was': 1,\n",
       " 'grassy': 1,\n",
       " 'and': 3,\n",
       " 'wanted': 1,\n",
       " 'wear;': 1,\n",
       " 'Though': 1,\n",
       " 'for': 2,\n",
       " 'that': 3,\n",
       " 'passing': 1,\n",
       " 'there': 1,\n",
       " 'Had': 1,\n",
       " 'worn': 1,\n",
       " 'them': 1,\n",
       " 'really': 1,\n",
       " 'about': 1,\n",
       " 'same': 1,\n",
       " 'morning': 1,\n",
       " 'equally': 1,\n",
       " 'lay': 1,\n",
       " 'In': 1,\n",
       " 'leaves': 1,\n",
       " 'no': 1,\n",
       " 'step': 1,\n",
       " 'had': 1,\n",
       " 'trodden': 1,\n",
       " 'black': 1,\n",
       " 'Oh': 1,\n",
       " 'kept': 1,\n",
       " 'first': 1,\n",
       " 'another': 1,\n",
       " 'day!': 1,\n",
       " 'Yet': 1,\n",
       " 'knowing': 1,\n",
       " 'how': 1,\n",
       " 'way': 2,\n",
       " 'leads': 1,\n",
       " 'on': 1,\n",
       " 'to': 1,\n",
       " 'doubted': 1,\n",
       " 'if': 1,\n",
       " 'should': 1,\n",
       " 'ever': 1,\n",
       " 'come': 1,\n",
       " 'back': 1,\n",
       " 'shall': 1,\n",
       " 'telling': 1,\n",
       " 'this': 1,\n",
       " 'with': 1,\n",
       " 'sigh': 1,\n",
       " 'Somewhere': 1,\n",
       " 'ages': 2,\n",
       " 'hence:': 1,\n",
       " 'Iâ€”': 1,\n",
       " 'less': 1,\n",
       " 'traveled': 1,\n",
       " 'by': 1,\n",
       " 'has': 1,\n",
       " 'made': 1,\n",
       " 'all': 1,\n",
       " 'difference': 1}"
      ]
     },
     "execution_count": 152,
     "metadata": {},
     "output_type": "execute_result"
    }
   ],
   "source": [
    "dic"
   ]
  },
  {
   "cell_type": "markdown",
   "metadata": {},
   "source": [
    "# Exercise4\n",
    "\n",
    "##### Implement hash table where collisions are handled using linear probing.\n",
    "\n",
    "We learnt about linear probing in the video tutorial. Take the hash table implementation that uses chaining and modify methods to use linear probing. Keep MAX size of arr in hashtable as 10."
   ]
  },
  {
   "cell_type": "code",
   "execution_count": 3,
   "metadata": {},
   "outputs": [],
   "source": [
    "# Handling with probing\n",
    "class Dict:\n",
    "    def __init__(self):\n",
    "        self.MAX = 10\n",
    "        self.arr = [None for i in range(self.MAX)]\n",
    "        \n",
    "    \n",
    "    def get_hash(self,key):\n",
    "        h = 0\n",
    "        for char in key:\n",
    "            h += ord(char)\n",
    "        return h % self.MAX\n",
    "    \n",
    "    def __setitem__(self,key,val):\n",
    "        ind = self.get_hash(key)\n",
    "        if self.arr[ind] is None:\n",
    "            self.arr[ind] = (key,val)\n",
    "        else:\n",
    "            new_ind = self.find_slot(key,ind)\n",
    "            self.arr[new_ind] = (key,val)\n",
    "        print(self.arr)\n",
    "        \n",
    "            \n",
    "    \n",
    "    def __getitem__(self,key):\n",
    "        ind = self.get_hash(key)\n",
    "        if self.arr[ind] is None:\n",
    "            return\n",
    "        prob_range = self.get_prob_range(ind)\n",
    "        for prob_index in prob_range:\n",
    "            element = self.arr[prob_index]\n",
    "            if element is None:\n",
    "                return\n",
    "            if element[0] == key:\n",
    "                return element[1]\n",
    "    \n",
    "    def get_prob_range(self,index):\n",
    "        return [*range(index,len(self.arr))] + [*range(0,index)]\n",
    "    \n",
    "    def find_slot(self,key,index):\n",
    "        prob_range = self.get_prob_range(index)\n",
    "        for prob_index in prob_range:\n",
    "            if self.arr[prob_index] is None:\n",
    "                return prob_index\n",
    "            if self.arr[prob_index][0] == key:\n",
    "                return prob_index\n",
    "        raise Exception(\"Hashmap Full\")\n",
    "                \n",
    "    \n",
    "    def __delitem__(self,key):\n",
    "        h = self.get_hash(key)\n",
    "        prob_range = self.get_prob_range(h)\n",
    "        for prob_index in prob_range:\n",
    "            if self.arr[prob_index] is None:\n",
    "                return\n",
    "            if self.arr[prob_index][0] == key:\n",
    "                self.arr[prob_index] = None\n",
    "        "
   ]
  },
  {
   "cell_type": "code",
   "execution_count": 4,
   "metadata": {},
   "outputs": [
    {
     "name": "stdout",
     "output_type": "stream",
     "text": [
      "[None, None, None, None, None, None, None, None, None, ('march 6', 20)]\n",
      "[('march 17', 88), None, None, None, None, None, None, None, None, ('march 6', 20)]\n"
     ]
    }
   ],
   "source": [
    "t = Dict()\n",
    "t[\"march 6\"] = 20\n",
    "t[\"march 17\"] =  88"
   ]
  },
  {
   "cell_type": "code",
   "execution_count": 5,
   "metadata": {},
   "outputs": [
    {
     "name": "stdout",
     "output_type": "stream",
     "text": [
      "[('march 17', 29), None, None, None, None, None, None, None, None, ('march 6', 20)]\n",
      "[('march 17', 29), ('nov 1', 1), None, None, None, None, None, None, None, ('march 6', 20)]\n"
     ]
    }
   ],
   "source": [
    "t[\"march 17\"] = 29\n",
    "t[\"nov 1\"] = 1\n"
   ]
  },
  {
   "cell_type": "code",
   "execution_count": 7,
   "metadata": {},
   "outputs": [],
   "source": [
    "del t[\"nov 1\"]"
   ]
  },
  {
   "cell_type": "code",
   "execution_count": null,
   "metadata": {},
   "outputs": [],
   "source": []
  }
 ],
 "metadata": {
  "kernelspec": {
   "display_name": "Python 3",
   "language": "python",
   "name": "python3"
  },
  "language_info": {
   "codemirror_mode": {
    "name": "ipython",
    "version": 3
   },
   "file_extension": ".py",
   "mimetype": "text/x-python",
   "name": "python",
   "nbconvert_exporter": "python",
   "pygments_lexer": "ipython3",
   "version": "3.7.6"
  }
 },
 "nbformat": 4,
 "nbformat_minor": 4
}
