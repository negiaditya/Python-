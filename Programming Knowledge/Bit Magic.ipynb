{
 "cells": [
  {
   "cell_type": "markdown",
   "metadata": {},
   "source": [
    "## BIT MAGIC: \n",
    "#### Tricks to cover the binary representation of a number"
   ]
  },
  {
   "cell_type": "raw",
   "metadata": {},
   "source": [
    "Bitiwse And ->   &\n",
    "\n",
    "Bitiwse Or ->    |\n",
    "\n",
    "Bitiwse Not ->   ~\n",
    "\n",
    "Bitiwse Xor ->   ^\n",
    "\n",
    "Bitiwse right shift ->   >>\n",
    "\n",
    "Bitiwse left shift ->   <<"
   ]
  },
  {
   "cell_type": "markdown",
   "metadata": {},
   "source": [
    "## Bitwise And"
   ]
  },
  {
   "cell_type": "raw",
   "metadata": {},
   "source": [
    "a = 10 = 1010 (Binary)\n",
    "b = 4 =  0100 (Binary\n",
    "\n",
    "a & b = 1010\n",
    "         &\n",
    "        0100\n",
    "      = 0000\n",
    "      = 0 (Decimal)"
   ]
  },
  {
   "cell_type": "markdown",
   "metadata": {},
   "source": [
    "## Bitwsie Or"
   ]
  },
  {
   "cell_type": "raw",
   "metadata": {},
   "source": [
    "a = 10 = 1010 (Binary)\n",
    "b = 4 =  0100 (Binary\n",
    "\n",
    "a | b = 1010\n",
    "         |\n",
    "        0100\n",
    "      = 1110\n",
    "      = 14 (Decimal)"
   ]
  },
  {
   "cell_type": "markdown",
   "metadata": {},
   "source": [
    "## Bitwise Not"
   ]
  },
  {
   "cell_type": "raw",
   "metadata": {},
   "source": [
    "a = 10 = 1010 (Binary)\n",
    "\n",
    "~a = ~1010\n",
    "   = -(1010 + 1)\n",
    "   = -(1011)\n",
    "   = -11 (Decimal)"
   ]
  },
  {
   "cell_type": "markdown",
   "metadata": {},
   "source": [
    "## Bitwise XOR "
   ]
  },
  {
   "cell_type": "raw",
   "metadata": {},
   "source": [
    "a = 10 = 1010 (Binary)\n",
    "b = 4 =  0100 (Binary\n",
    "\n",
    "a & b = 1010\n",
    "         ^\n",
    "        0100\n",
    "      = 1110\n",
    "      = 14 (Decimal)"
   ]
  },
  {
   "cell_type": "markdown",
   "metadata": {},
   "source": [
    "## Right shift"
   ]
  },
  {
   "cell_type": "raw",
   "metadata": {},
   "source": [
    "Example 1:\n",
    "a = 10\n",
    "a >> 1 = 5 \n",
    "\n",
    "Example 2:\n",
    "a = -10 \n",
    "a >> 1 = -5"
   ]
  },
  {
   "cell_type": "markdown",
   "metadata": {},
   "source": [
    "## Left Shift"
   ]
  },
  {
   "cell_type": "raw",
   "metadata": {},
   "source": [
    "a = 5 = 0000 0101\n",
    "b = -10 = 1111 0110\n",
    "\n",
    "a << 1 = 0000 1010 = 10\n",
    "a << 2 = 0001 0100 = 20 \n",
    "\n",
    "b << 1 = 0000 1010 = -20\n",
    "b << 2 = 0001 0100 = -40 "
   ]
  },
  {
   "cell_type": "markdown",
   "metadata": {},
   "source": [
    "# EXAMPLES"
   ]
  },
  {
   "cell_type": "code",
   "execution_count": 11,
   "metadata": {},
   "outputs": [
    {
     "name": "stdout",
     "output_type": "stream",
     "text": [
      "0\n",
      "0\n",
      "0\n",
      "1\n",
      "1\n",
      "1\n"
     ]
    }
   ],
   "source": [
    "print(2 & 1)\n",
    "print(4 & 1)\n",
    "print(12 & 1)\n",
    "print(3 & 1)\n",
    "print(7 & 1)\n",
    "print(199 & 1)"
   ]
  },
  {
   "cell_type": "code",
   "execution_count": 12,
   "metadata": {},
   "outputs": [
    {
     "name": "stdout",
     "output_type": "stream",
     "text": [
      "odd\n"
     ]
    }
   ],
   "source": [
    "# For all even numbers n & 1 is 0 whereas its 1 for even numbers \n",
    "def evenodd(n):\n",
    "    if n&1 == 1:\n",
    "        print(\"odd\")\n",
    "    else:\n",
    "        print(\"even\")\n",
    "evenodd(3)"
   ]
  },
  {
   "cell_type": "code",
   "execution_count": 18,
   "metadata": {},
   "outputs": [
    {
     "name": "stdout",
     "output_type": "stream",
     "text": [
      "16\n",
      "8\n",
      "0\n",
      "\n",
      "64\n",
      "128\n",
      "8192\n",
      "\n",
      "16\n",
      "8\n",
      "0\n",
      "\n",
      "64\n",
      "128\n",
      "8192\n"
     ]
    }
   ],
   "source": [
    "n=32\n",
    "print(n >> 1)\n",
    "print(n >> 2)\n",
    "print(n >> 8)\n",
    "print(\"\")\n",
    "print(n << 1)\n",
    "print(n << 2)\n",
    "print(n << 8)\n",
    "print(\"\")\n",
    "print(n // 2**1)\n",
    "print(n // 2**2)\n",
    "print(n // 2**8)\n",
    "print(\"\")\n",
    "print(n * 2**1)\n",
    "print(n * 2**2)\n",
    "print(n * 2**8)"
   ]
  },
  {
   "cell_type": "code",
   "execution_count": 20,
   "metadata": {},
   "outputs": [
    {
     "name": "stdout",
     "output_type": "stream",
     "text": [
      "176\n",
      "63\n"
     ]
    }
   ],
   "source": [
    "# Rightshift is divide in power of 2\n",
    "# Leftshift is mutiply in power of 2\n",
    "def mul_2power(x,n):\n",
    "    return x << n\n",
    "def div_2power(x,n):\n",
    "    return x >> n\n",
    "\n",
    "print(mul_2power(22,3))\n",
    "print(div_2power(511,3))"
   ]
  },
  {
   "cell_type": "markdown",
   "metadata": {},
   "source": [
    "## Programs "
   ]
  },
  {
   "cell_type": "code",
   "execution_count": 32,
   "metadata": {},
   "outputs": [
    {
     "data": {
      "text/plain": [
       "True"
      ]
     },
     "execution_count": 32,
     "metadata": {},
     "output_type": "execute_result"
    }
   ],
   "source": [
    "# Is power of 2?\n",
    "# n -> input\n",
    "# True/False -> output\n",
    "# check if n is a power of 2\n",
    "\n",
    "def is_power2(n):\n",
    "    # O(1)\n",
    "    if n<= 0:\n",
    "        return False\n",
    "    x = n\n",
    "    y = not(n & (n-1))\n",
    "    return x and y\n",
    "is_power2(64)"
   ]
  },
  {
   "cell_type": "code",
   "execution_count": 45,
   "metadata": {},
   "outputs": [
    {
     "name": "stdout",
     "output_type": "stream",
     "text": [
      "2\n",
      "2\n"
     ]
    }
   ],
   "source": [
    "# Return no.of 1's in binary representaion of int\n",
    "# 5 -> 101 ans = 2\n",
    "# 7 -> 111 ans = 3\n",
    "# 8 -> 1000  ans = 1\n",
    "\n",
    "def cntbits1(n):\n",
    "    # O(n)\n",
    "    s = str(bin(n))[2:]\n",
    "    return s.count('1')\n",
    "\n",
    "def cntbits2(n):\n",
    "    # O(log(n))\n",
    "    cnt = 0\n",
    "    while n:\n",
    "        cnt+=1\n",
    "        n = n & (n-1)\n",
    "    return cnt    \n",
    "\n",
    "print(cntbits1(3))\n",
    "print(cntbits2(3))"
   ]
  },
  {
   "cell_type": "code",
   "execution_count": 50,
   "metadata": {},
   "outputs": [
    {
     "name": "stdout",
     "output_type": "stream",
     "text": [
      "7 --> 111 --> 7\n"
     ]
    }
   ],
   "source": [
    "# convert integer n into binary and vice-versa\n",
    "\n",
    "def int2bin(n):\n",
    "    return str(bin(n))[2:]\n",
    "def bin2int(s):\n",
    "    return int(s,2)\n",
    "n=7\n",
    "print(n,\"-->\",int2bin(n),\"-->\",bin2int(int2bin(n)))"
   ]
  },
  {
   "cell_type": "code",
   "execution_count": 52,
   "metadata": {},
   "outputs": [
    {
     "name": "stdout",
     "output_type": "stream",
     "text": [
      "110\n",
      "NOT SET\n"
     ]
    }
   ],
   "source": [
    "# kth bit set from set\n",
    "# 110 -> 1st bit from right not set, 2nd bit set, 3rd bit set\n",
    "\n",
    "def kthbit(n,k):\n",
    "    print(str(bin(n))[2:])\n",
    "    if n & (1 << (k-1)):\n",
    "        print(\"SET\")\n",
    "    else:\n",
    "        print(\"NOT SET\")\n",
    "\n",
    "kthbit(6,1)"
   ]
  },
  {
   "cell_type": "code",
   "execution_count": 57,
   "metadata": {},
   "outputs": [
    {
     "data": {
      "text/plain": [
       "9"
      ]
     },
     "execution_count": 57,
     "metadata": {},
     "output_type": "execute_result"
    }
   ],
   "source": [
    "# Given a array,every number occurs twicr. Find a number that occurs once.\n",
    "# n^n = 0,n^0 = n\n",
    "\n",
    "def findonce(arr):\n",
    "    res = arr[0]\n",
    "    for i in range(1,len(arr)):\n",
    "        res = res ^ arr[i]\n",
    "    return res\n",
    "findonce([1,3,4,4,1,9,3])   "
   ]
  },
  {
   "cell_type": "code",
   "execution_count": null,
   "metadata": {},
   "outputs": [],
   "source": []
  }
 ],
 "metadata": {
  "kernelspec": {
   "display_name": "Python 3",
   "language": "python",
   "name": "python3"
  },
  "language_info": {
   "codemirror_mode": {
    "name": "ipython",
    "version": 3
   },
   "file_extension": ".py",
   "mimetype": "text/x-python",
   "name": "python",
   "nbconvert_exporter": "python",
   "pygments_lexer": "ipython3",
   "version": "3.7.6"
  }
 },
 "nbformat": 4,
 "nbformat_minor": 4
}
