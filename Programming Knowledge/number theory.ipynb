{
 "cells": [
  {
   "cell_type": "code",
   "execution_count": 29,
   "metadata": {},
   "outputs": [],
   "source": [
    "from math import *"
   ]
  },
  {
   "cell_type": "markdown",
   "metadata": {},
   "source": [
    "# 1. Sum upto n"
   ]
  },
  {
   "cell_type": "code",
   "execution_count": 6,
   "metadata": {},
   "outputs": [],
   "source": [
    "def sum1(n):\n",
    "    # O(n)\n",
    "    sm=0\n",
    "    for i in range(1,n+1):\n",
    "        sm = sm + i\n",
    "    return sm\n",
    "\n",
    "def sum2(n):\n",
    "    # O(1)\n",
    "    sm = (n * (n+1))//2\n",
    "    return sm\n",
    "    "
   ]
  },
  {
   "cell_type": "code",
   "execution_count": 8,
   "metadata": {},
   "outputs": [
    {
     "data": {
      "text/plain": [
       "55"
      ]
     },
     "execution_count": 8,
     "metadata": {},
     "output_type": "execute_result"
    }
   ],
   "source": [
    "sum2(10)"
   ]
  },
  {
   "cell_type": "markdown",
   "metadata": {},
   "source": [
    "## 2. GCD & LCM"
   ]
  },
  {
   "cell_type": "code",
   "execution_count": 9,
   "metadata": {},
   "outputs": [],
   "source": [
    "#euclid algo\n",
    "# O(log(min(a,b)))\n",
    "def GCD(a,b):\n",
    "    if a==0:\n",
    "        return b\n",
    "    return GCD(b%a,a)\n",
    "\n",
    "def LCM(a,b):\n",
    "    lcm = (a*b)//GCD(a,b)\n",
    "    return lcm  "
   ]
  },
  {
   "cell_type": "code",
   "execution_count": 19,
   "metadata": {
    "scrolled": true
   },
   "outputs": [
    {
     "name": "stdout",
     "output_type": "stream",
     "text": [
      "12\n",
      "1080\n"
     ]
    }
   ],
   "source": [
    "print(GCD(540,24))\n",
    "print(LCM(540,24))"
   ]
  },
  {
   "cell_type": "markdown",
   "metadata": {},
   "source": [
    "## 3. All divisors of number "
   ]
  },
  {
   "cell_type": "code",
   "execution_count": 42,
   "metadata": {},
   "outputs": [],
   "source": [
    "def div1(n):\n",
    "    # O(n//2)\n",
    "    div = [1]\n",
    "    for i in range(2,n//2+1): #[2,n//2+1]\n",
    "        if n % i == 0:\n",
    "            div.append(i)\n",
    "    div.append(n)\n",
    "    return div\n",
    "\n",
    "def div2(n):\n",
    "    # O(root(n))\n",
    "    div = set([1,n])\n",
    "    for i in range(2,int(sqrt(n))+1): #[2,root(n)+1]\n",
    "        if n % i == 0:\n",
    "            div.add(i)\n",
    "            div.add(n//i)\n",
    "    return sorted(list(div)) "
   ]
  },
  {
   "cell_type": "code",
   "execution_count": 43,
   "metadata": {},
   "outputs": [
    {
     "name": "stdout",
     "output_type": "stream",
     "text": [
      "[1, 2, 3, 4, 5, 6, 9, 10, 12, 15, 18, 20, 27, 30, 36, 45, 54, 60, 90, 108, 135, 180, 270, 540]\n",
      "[1, 2, 3, 4, 5, 6, 9, 10, 12, 15, 18, 20, 27, 30, 36, 45, 54, 60, 90, 108, 135, 180, 270, 540]\n"
     ]
    }
   ],
   "source": [
    "print(div1(540))\n",
    "print(div2(540))"
   ]
  },
  {
   "cell_type": "markdown",
   "metadata": {},
   "source": [
    "## 4. Primarility test"
   ]
  },
  {
   "cell_type": "code",
   "execution_count": 73,
   "metadata": {},
   "outputs": [],
   "source": [
    "def is_prime1(n):\n",
    "    # O(n)\n",
    "    faccnt = 0\n",
    "    if n == 0 or n == 1:\n",
    "        return False\n",
    "    for i in range(2,n//2+1):\n",
    "        if n%i == 0:\n",
    "            faccnt = 1\n",
    "            break\n",
    "    return faccnt == 0\n",
    "\n",
    "def is_prime2(n):\n",
    "    # O(root(n))\n",
    "    faccnt = 0\n",
    "    if n == 0 or n == 1:\n",
    "        return False\n",
    "    if n == 2 or n == 3:\n",
    "        return True\n",
    "    if n%2 == 0 or n%3 == 0:\n",
    "        return False\n",
    "    for i in range(5,int(sqrt(n))+1):\n",
    "        if n%i == 0 or n%(i+2) == 0:\n",
    "            return False \n",
    "            \n",
    "    return True            \n",
    "    "
   ]
  },
  {
   "cell_type": "code",
   "execution_count": 75,
   "metadata": {},
   "outputs": [
    {
     "data": {
      "text/plain": [
       "False"
      ]
     },
     "execution_count": 75,
     "metadata": {},
     "output_type": "execute_result"
    }
   ],
   "source": [
    "is_prime2(39)"
   ]
  },
  {
   "cell_type": "markdown",
   "metadata": {},
   "source": [
    "## 5. Seive Theorem"
   ]
  },
  {
   "cell_type": "code",
   "execution_count": 76,
   "metadata": {},
   "outputs": [],
   "source": [
    "# Generate all primes upto N in O(n*log(log(n)))"
   ]
  },
  {
   "cell_type": "code",
   "execution_count": 92,
   "metadata": {},
   "outputs": [],
   "source": [
    "def getprime(end,start=2):\n",
    "    # O(n*root(n))\n",
    "    prime = []\n",
    "    for i in range(start,end+1):\n",
    "        if is_prime2(i):\n",
    "            prime.append(i)\n",
    "    return prime\n",
    "\n",
    "def seive(n):\n",
    "    # O(n*log(log(n)))\n",
    "    primes = [True]*(n+1)\n",
    "    primes[0],primes[1] = False,False\n",
    "    \n",
    "    for i in range(2,int(sqrt(n))+1):\n",
    "        if primes[i] == True:\n",
    "            for i in range(i**2,n+1,i):\n",
    "                primes[i] = False\n",
    "    return [j for j in range(len(primes)) if primes[j]]\n",
    "            \n",
    "        \n",
    "    \n",
    "    "
   ]
  },
  {
   "cell_type": "code",
   "execution_count": 94,
   "metadata": {},
   "outputs": [
    {
     "data": {
      "text/plain": [
       "[2, 3, 5, 7, 11, 13, 17, 19, 23, 29, 31, 37, 41, 43, 47]"
      ]
     },
     "execution_count": 94,
     "metadata": {},
     "output_type": "execute_result"
    }
   ],
   "source": [
    "seive(50)"
   ]
  },
  {
   "cell_type": "code",
   "execution_count": 95,
   "metadata": {},
   "outputs": [
    {
     "data": {
      "text/plain": [
       "[2, 3, 5, 7, 11, 13, 17, 19, 23, 29, 31, 37, 41, 43, 47]"
      ]
     },
     "execution_count": 95,
     "metadata": {},
     "output_type": "execute_result"
    }
   ],
   "source": [
    "getprime(50)"
   ]
  },
  {
   "cell_type": "code",
   "execution_count": null,
   "metadata": {},
   "outputs": [],
   "source": []
  }
 ],
 "metadata": {
  "kernelspec": {
   "display_name": "Python 3",
   "language": "python",
   "name": "python3"
  },
  "language_info": {
   "codemirror_mode": {
    "name": "ipython",
    "version": 3
   },
   "file_extension": ".py",
   "mimetype": "text/x-python",
   "name": "python",
   "nbconvert_exporter": "python",
   "pygments_lexer": "ipython3",
   "version": "3.7.6"
  }
 },
 "nbformat": 4,
 "nbformat_minor": 4
}
