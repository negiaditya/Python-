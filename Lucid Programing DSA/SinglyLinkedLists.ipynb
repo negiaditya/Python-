{
 "cells": [
  {
   "cell_type": "code",
   "execution_count": 1,
   "metadata": {},
   "outputs": [],
   "source": [
    "class Node:\n",
    "    def __init__(self,data=None,nex=None):\n",
    "        self.data = data #data / value\n",
    "        self.nex = nex #pointer to the next element\n",
    "    \n",
    "class LinkedList:\n",
    "    def __init__(self):\n",
    "        self.head = None #head of the linked list\n",
    "        \n",
    "    def prepend(self,data):\n",
    "        node = Node(data,self.head)\n",
    "        self.head = node #setting new value at the starting\n",
    "    \n",
    "    def show(self):\n",
    "        if self.head is None:\n",
    "            print(\"Linked list is empty\")\n",
    "            return\n",
    "        itr = self.head #iterator(assigned with head)\n",
    "        llstr = '' #linked list string\n",
    "        while itr:\n",
    "            llstr += str(itr.data) + '-->'\n",
    "            itr = itr.nex #next value\n",
    "        print(llstr)\n",
    "    \n",
    "    def append(self,data):\n",
    "        if self.head is None:\n",
    "            self.head = Node(data,None) #check if llist empty\n",
    "            return\n",
    "        \n",
    "        itr = self.head\n",
    "        while itr.nex:\n",
    "            itr = itr.nex  #loop over the llist\n",
    "        itr.nex = Node(data,None)\n",
    "    \n",
    "    def insert_values(self,data_list):\n",
    "        self.head = None #clear previous values\n",
    "        for data in data_list:\n",
    "            self.insert_at_end(data) #add new values/list\n",
    "    \n",
    "    def get_length(self):\n",
    "        count=0\n",
    "        itr = self.head\n",
    "        while itr:\n",
    "            count+=1 #increase count and keep on iterating\n",
    "            itr = itr.nex\n",
    "        return count\n",
    "    \n",
    "    def remove_at(self,index):\n",
    "        if index<0 or index>=self.get_length():\n",
    "            raise Exception(\"Out of bounds index\") #in-size\n",
    "        \n",
    "        if index == 0:\n",
    "            self.head = self.head.nex #if first element change head to next head\n",
    "            return\n",
    "        \n",
    "        count = 0\n",
    "        itr = self.head\n",
    "        while itr:\n",
    "            if count == index-1: #for previos posn to be deleted\n",
    "                itr.nex = itr.nex.nex #set pointer to next's next \n",
    "                break\n",
    "            \n",
    "            itr = itr.nex\n",
    "            count += 1\n",
    "    \n",
    "    def insert_at(self,index,data):\n",
    "        if index<0 or index>self.get_length():\n",
    "            raise Exception(\"Invalid Index\")\n",
    "        \n",
    "        if index == 0:\n",
    "            self.prepend(data)\n",
    "            return\n",
    "        \n",
    "        count = 0\n",
    "        itr = self.head\n",
    "        while itr:\n",
    "            if count == index-1:\n",
    "                itr.nex = Node(data,itr.nex)\n",
    "                break\n",
    "            \n",
    "            itr = itr.nex\n",
    "            count += 1\n",
    "                        \n",
    "    def get_index(self,data):\n",
    "        itr = self.head\n",
    "        count = 0\n",
    "        while itr:\n",
    "            if itr.data == data:\n",
    "                return count\n",
    "            count += 1\n",
    "            itr = itr.nex\n",
    "    \n",
    "    def insert_after_value(self,data_after,data_to_insert):\n",
    "        index = self.get_index(data_after)\n",
    "        if index == None:\n",
    "            raise Exception('No such value found')\n",
    "        else:\n",
    "            self.insert_at(index,data_to_insert)\n",
    "            \n",
    "    def remove_by_value(self,data):\n",
    "        index = self.get_index(data)\n",
    "        if index == None:\n",
    "            raise Exception('No such value found')\n",
    "        else:\n",
    "            self.remove_at(index)\n",
    "    \n",
    "    def node_swap(self,key1,key2):\n",
    "        if key1 == key2:\n",
    "            return\n",
    "        \n",
    "        prev1 = None\n",
    "        curr1 = self.head\n",
    "        while curr1 and curr1.data != key1:\n",
    "            prev1 = curr1\n",
    "            curr1 = curr1.next\n",
    "            \n",
    "        prev2 = None\n",
    "        curr2 = self.head\n",
    "        while curr2 and curr2.data != key2:\n",
    "            prev2 = curr2\n",
    "            curr2 = curr2.next\n",
    "            \n",
    "        if not curr1 or not curr2:\n",
    "            return\n",
    "        \n",
    "        is prev1:\n",
    "            \n",
    "            \n",
    "            \n",
    "            \n",
    "        "
   ]
  },
  {
   "cell_type": "code",
   "execution_count": 2,
   "metadata": {},
   "outputs": [],
   "source": [
    "llist = LinkedList()\n",
    "llist.append(\"A\")\n",
    "llist.append(\"B\")\n",
    "llist.append(\"C\")\n",
    "llist.append(\"D\")\n",
    "llist.append(\"E\")\n",
    "llist.append(\"F\")\n",
    "llist.append(\"G\")"
   ]
  },
  {
   "cell_type": "code",
   "execution_count": 3,
   "metadata": {},
   "outputs": [
    {
     "name": "stdout",
     "output_type": "stream",
     "text": [
      "A-->B-->C-->D-->E-->F-->G-->\n"
     ]
    }
   ],
   "source": [
    "llist.show()"
   ]
  },
  {
   "cell_type": "code",
   "execution_count": 4,
   "metadata": {},
   "outputs": [],
   "source": [
    "llist.node_swap('A','F')"
   ]
  },
  {
   "cell_type": "code",
   "execution_count": 5,
   "metadata": {},
   "outputs": [
    {
     "name": "stdout",
     "output_type": "stream",
     "text": [
      "B-->C-->D-->E-->F-->\n"
     ]
    }
   ],
   "source": [
    "llist.show()"
   ]
  },
  {
   "cell_type": "code",
   "execution_count": null,
   "metadata": {},
   "outputs": [],
   "source": []
  },
  {
   "cell_type": "code",
   "execution_count": null,
   "metadata": {},
   "outputs": [],
   "source": []
  }
 ],
 "metadata": {
  "kernelspec": {
   "display_name": "Python 3",
   "language": "python",
   "name": "python3"
  },
  "language_info": {
   "codemirror_mode": {
    "name": "ipython",
    "version": 3
   },
   "file_extension": ".py",
   "mimetype": "text/x-python",
   "name": "python",
   "nbconvert_exporter": "python",
   "pygments_lexer": "ipython3",
   "version": "3.7.6"
  }
 },
 "nbformat": 4,
 "nbformat_minor": 4
}
