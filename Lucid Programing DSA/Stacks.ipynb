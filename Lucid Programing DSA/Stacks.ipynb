{
 "cells": [
  {
   "cell_type": "markdown",
   "metadata": {},
   "source": [
    "## Stack Data Structure"
   ]
  },
  {
   "cell_type": "code",
   "execution_count": 97,
   "metadata": {},
   "outputs": [],
   "source": [
    "class Stack():\n",
    "    def __init__(self):\n",
    "        self.items = []\n",
    "    \n",
    "    def push(self,data):\n",
    "        self.items.append(data)\n",
    "        \n",
    "    def pop(self):\n",
    "        return self.items.pop()\n",
    "    \n",
    "    def get_stack(self):\n",
    "        return self.items\n",
    "    \n",
    "    def peek(self):\n",
    "        if not self.is_empty():\n",
    "            return self.items[-1]\n",
    "    \n",
    "    def is_empty(self):\n",
    "        return self.items == []\n",
    "    \n",
    "    def get_size(self):\n",
    "        return len(self.items)"
   ]
  },
  {
   "cell_type": "code",
   "execution_count": 98,
   "metadata": {},
   "outputs": [
    {
     "name": "stdout",
     "output_type": "stream",
     "text": [
      "['A', 'B', 'C']\n",
      "True\n"
     ]
    }
   ],
   "source": [
    "s = Stack()\n",
    "s.push(\"A\")\n",
    "s.push(\"B\")\n",
    "s.push(\"C\")\n",
    "print(s.get_stack())\n",
    "s.pop()\n",
    "s.pop()\n",
    "s.pop()\n",
    "print(s.is_empty())"
   ]
  },
  {
   "cell_type": "markdown",
   "metadata": {},
   "source": [
    "### 1. Balanced Paranthesis problem"
   ]
  },
  {
   "cell_type": "raw",
   "metadata": {},
   "source": [
    "\"\"\"\n",
    "Use a stack to check whether or not a string\n",
    "has balanced usage of parenthesis.\n",
    "Example:\n",
    "    (), ()(), (({[]}))  <- Balanced.\n",
    "    ((), {{{)}], [][]]] <- Not Balanced.\n",
    "Balanced Example: {[]}\n",
    "Non-Balanced Example: (()\n",
    "Non-Balanced Example: ))\n",
    "\"\"\""
   ]
  },
  {
   "cell_type": "code",
   "execution_count": 99,
   "metadata": {},
   "outputs": [],
   "source": [
    "def is_balanced(string):\n",
    "    in_brack = ['(','{','[']\n",
    "    out_brack = [')','}',']']\n",
    "    \n",
    "    t = Stack()\n",
    "    \n",
    "    for a in string:\n",
    "        if a in in_brack:\n",
    "            t.push(a)\n",
    "        if a in out_brack:\n",
    "            if t.is_empty() == True:\n",
    "                return \"Not balanced\"\n",
    "            if in_brack.index(t.pop()) != out_brack.index(a):\n",
    "                return \"Non balanced\"\n",
    "    \n",
    "    if t.is_empty() == True:\n",
    "        return \"Balanced\"\n",
    "            "
   ]
  },
  {
   "cell_type": "code",
   "execution_count": 100,
   "metadata": {},
   "outputs": [
    {
     "name": "stdout",
     "output_type": "stream",
     "text": [
      "Balanced\n",
      "Not balanced\n",
      "Balanced\n",
      "Not balanced\n",
      "Balanced\n"
     ]
    }
   ],
   "source": [
    "print(is_balanced(\"({a+b})\"))    \n",
    "\n",
    "print(is_balanced(\"))((a+b}{\"))\n",
    "\n",
    "print(is_balanced(\"((a+b))\")) \n",
    "\n",
    "print(is_balanced(\"))\"))        \n",
    "\n",
    "print(is_balanced(\"[a+b]*(x+2y)*{gg+kk}\")) "
   ]
  },
  {
   "cell_type": "markdown",
   "metadata": {},
   "source": [
    "### 2. Integer2Binary"
   ]
  },
  {
   "cell_type": "raw",
   "metadata": {},
   "source": [
    "\"\"\"\n",
    "Use a stack data structure to convert integer values to their corresponding binary representation.\n",
    "Example : 242\n",
    "242 / 2 = 121 -> 0\n",
    "121 / 2 = 60  -> 1\n",
    "60 / 2  = 30  -> 0\n",
    "30 / 2  = 15  -> 0\n",
    "15 / 2  = 7   -> 1\n",
    "7 / 2 = 3     -> 1\n",
    "3 / 2 = 1     -> 1\n",
    "1 / 2 = 0\t  -> 1\n",
    "\"\"\""
   ]
  },
  {
   "cell_type": "code",
   "execution_count": 132,
   "metadata": {},
   "outputs": [],
   "source": [
    "def num2bin(dec_num):\n",
    "    if dec_num == 0:\n",
    "        return 0\n",
    "    s = Stack()\n",
    "\n",
    "    while dec_num > 0:\n",
    "        remainder = dec_num % 2\n",
    "        s.push(remainder)\n",
    "        dec_num = dec_num // 2\n",
    "\n",
    "    bin_num = \"\"\n",
    "    while not s.is_empty():\n",
    "        bin_num += str(s.pop())\n",
    "\n",
    "    return bin_num\n"
   ]
  },
  {
   "cell_type": "code",
   "execution_count": 133,
   "metadata": {},
   "outputs": [
    {
     "data": {
      "text/plain": [
       "'11110010'"
      ]
     },
     "execution_count": 133,
     "metadata": {},
     "output_type": "execute_result"
    }
   ],
   "source": [
    "num2bin(242)"
   ]
  }
 ],
 "metadata": {
  "kernelspec": {
   "display_name": "Python 3",
   "language": "python",
   "name": "python3"
  },
  "language_info": {
   "codemirror_mode": {
    "name": "ipython",
    "version": 3
   },
   "file_extension": ".py",
   "mimetype": "text/x-python",
   "name": "python",
   "nbconvert_exporter": "python",
   "pygments_lexer": "ipython3",
   "version": "3.7.6"
  }
 },
 "nbformat": 4,
 "nbformat_minor": 4
}
