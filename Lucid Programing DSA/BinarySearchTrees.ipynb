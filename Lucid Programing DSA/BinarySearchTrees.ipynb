{
 "cells": [
  {
   "cell_type": "code",
   "execution_count": 14,
   "metadata": {},
   "outputs": [],
   "source": [
    "class Node:\n",
    "    def __init__(self,data=None):\n",
    "        self.data = data\n",
    "        self.left = None\n",
    "        self.right = None\n",
    "        \n",
    "class BinarySearchTree:\n",
    "    def __init__(self):\n",
    "        self.root = None\n",
    "        \n",
    "    def insert(self,data):\n",
    "        if self.root is None:\n",
    "            self.root = Node(data)\n",
    "        else:\n",
    "            self._insert(data,self.root)\n",
    "    \n",
    "    def _insert(self,data,cur_node):\n",
    "        if data < cur_node.data:\n",
    "            if cur_node.left is None:\n",
    "                cur_node.left = Node(data)\n",
    "            else:\n",
    "                self._insert(data,cur_node.left)\n",
    "        elif data > cur_node.data:\n",
    "            if cur_node.right is None:\n",
    "                cur_node.right = Node(data)\n",
    "            else:\n",
    "                self._insert(data,cur_node.right)\n",
    "        \n",
    "    def find(self,data):\n",
    "        if self.root:\n",
    "            is_found = self._find(data,self.root)\n",
    "            if is_found:\n",
    "                return True\n",
    "            return False\n",
    "        else:\n",
    "            return None\n",
    "        \n",
    "    def _find(self,data,cur_node):\n",
    "        if data==cur_node.data:\n",
    "            return True\n",
    "        if data>cur_node.data and cur_node.right:\n",
    "            return self._find(data,cur_node.right)\n",
    "        elif data<cur_node.data and cur_node.left:\n",
    "            return self._find(data,cur_node.left)\n",
    "            \n",
    "            \n",
    "    def inorder_print_tree(self):\n",
    "        if self.root:\n",
    "            self._inorder_print_tree(self.root)\n",
    "\n",
    "    def _inorder_print_tree(self, cur_node):\n",
    "        if cur_node:\n",
    "            self._inorder_print_tree(cur_node.left)\n",
    "            print(str(cur_node.data))\n",
    "            self._inorder_print_tree(cur_node.right)\n",
    "            \n",
    "    def is_bst_satisfied(self):\n",
    "        if self.root:\n",
    "            is_satisfied = self._is_bst_satisfied(self.root,self.root.data)\n",
    "            \n",
    "            if is_satisfied is None:\n",
    "                return True\n",
    "            return False\n",
    "        return True\n",
    "    \n",
    "    def _is_bst_satisfied(self,cur_node,data):\n",
    "        if cur_node.left:\n",
    "            if data>cur_node.left.data:\n",
    "                return self._is_bst_satisfied(cur_node.left,cur_node.left.data)\n",
    "            else:\n",
    "                return False\n",
    "        \n",
    "        if cur_node.right:\n",
    "            if cur_node.left:\n",
    "                if data < cur_node.right.data:\n",
    "                    return self._is_bst_satisfied(cur_node.right,cur_node.right.data)\n",
    "            else:\n",
    "                return False   \n",
    "    \n",
    "    def find_k_largest(self,k):\n",
    "        if self.root:\n",
    "            nodes = []\n",
    "            self._find_k_largest(self.root,nodes,k)\n",
    "            return nodes\n",
    "    \n",
    "    def _find_k_largest(self,cur_node,nodes,k):\n",
    "        if cur_node and len(nodes)<k:\n",
    "            self._find_k_largest(cur_node.right,nodes,k)\n",
    "            if len(nodes) < k:\n",
    "                nodes.append(cur_node.data)\n",
    "                self._find_k_largest(cur_node.left,nodes,k)\n",
    "    \n",
    "    # lowest common ancestor            \n",
    "    def lca(self,data_1,data_2):\n",
    "        x = max(data_1,data_2)\n",
    "        y = min(data_1,data_2)\n",
    "        \n",
    "        itr = self.root\n",
    "        while x < itr.data or y > itr.data:\n",
    "            while itr.data < x:\n",
    "                itr = itr.right\n",
    "            while itr.data > y:\n",
    "                itr = itr.left\n",
    "        \n",
    "        print(itr.data)\n",
    "    \n",
    "                "
   ]
  },
  {
   "cell_type": "code",
   "execution_count": 15,
   "metadata": {},
   "outputs": [
    {
     "name": "stdout",
     "output_type": "stream",
     "text": [
      "[10]\n",
      "[10, 8]\n",
      "[10, 8, 5]\n",
      "4\n"
     ]
    }
   ],
   "source": [
    "\n",
    "bst = BinarySearchTree()\n",
    "bst.insert(4)\n",
    "bst.insert(2)\n",
    "bst.insert(8)\n",
    "bst.insert(5)\n",
    "bst.insert(10)\n",
    "\n",
    "print(bst.find_k_largest(1))\n",
    "print(bst.find_k_largest(2))\n",
    "print(bst.find_k_largest(3))\n",
    "bst.lca(8,2)"
   ]
  },
  {
   "cell_type": "code",
   "execution_count": 8,
   "metadata": {},
   "outputs": [
    {
     "data": {
      "text/plain": [
       "False"
      ]
     },
     "execution_count": 8,
     "metadata": {},
     "output_type": "execute_result"
    }
   ],
   "source": [
    "bst.find(10)"
   ]
  },
  {
   "cell_type": "code",
   "execution_count": 9,
   "metadata": {},
   "outputs": [
    {
     "data": {
      "text/plain": [
       "True"
      ]
     },
     "execution_count": 9,
     "metadata": {},
     "output_type": "execute_result"
    }
   ],
   "source": [
    "bst.find(1)"
   ]
  },
  {
   "cell_type": "code",
   "execution_count": 10,
   "metadata": {},
   "outputs": [
    {
     "data": {
      "text/plain": [
       "True"
      ]
     },
     "execution_count": 10,
     "metadata": {},
     "output_type": "execute_result"
    }
   ],
   "source": [
    "bst.find(5)"
   ]
  },
  {
   "cell_type": "code",
   "execution_count": 11,
   "metadata": {},
   "outputs": [
    {
     "data": {
      "text/plain": [
       "False"
      ]
     },
     "execution_count": 11,
     "metadata": {},
     "output_type": "execute_result"
    }
   ],
   "source": [
    "bst.is_bst_satisfied()"
   ]
  },
  {
   "cell_type": "code",
   "execution_count": null,
   "metadata": {},
   "outputs": [],
   "source": []
  }
 ],
 "metadata": {
  "kernelspec": {
   "display_name": "Python 3",
   "language": "python",
   "name": "python3"
  },
  "language_info": {
   "codemirror_mode": {
    "name": "ipython",
    "version": 3
   },
   "file_extension": ".py",
   "mimetype": "text/x-python",
   "name": "python",
   "nbconvert_exporter": "python",
   "pygments_lexer": "ipython3",
   "version": "3.7.6"
  }
 },
 "nbformat": 4,
 "nbformat_minor": 4
}
