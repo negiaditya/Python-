{
 "cells": [
  {
   "cell_type": "markdown",
   "metadata": {},
   "source": [
    "## Array Advance Game\n",
    "Given an array of non-negative integers. \n",
    "\n",
    "Where each number represents the maximum you can advance in the array. \n",
    "\n",
    "Ex: A = [3,3,1,0,2,0,1]\n",
    "\n",
    "__QUESTION:__ Is it possible to advance from the start of the array to the last element?"
   ]
  },
  {
   "cell_type": "code",
   "execution_count": 7,
   "metadata": {},
   "outputs": [
    {
     "name": "stdout",
     "output_type": "stream",
     "text": [
      "True\n",
      "False\n"
     ]
    }
   ],
   "source": [
    "def advance_array(arr):\n",
    "    far = 0\n",
    "    last = len(arr)-1\n",
    "    i = 0\n",
    "    while i<= far and far<last:\n",
    "        far = max(far,arr[i]+i)\n",
    "        i +=1\n",
    "    return far>=last\n",
    "\n",
    "\n",
    "A1 = [3,3,1,0,2,0,1]\n",
    "A2 = [3,2,0,0,4,1,8]\n",
    "print(advance_array(A1))\n",
    "print(advance_array(A2))"
   ]
  },
  {
   "cell_type": "markdown",
   "metadata": {},
   "source": [
    "## Arbitary Precision Increment\n",
    "Given an array of non-negative digits that represent a decimal integer.\n",
    "\n",
    "A = [1,4,9]\n",
    "\n",
    "A+1 = [1,5,0]\n",
    "\n",
    "__QUESTION:__ Add one to the integer.Assume the soln still works even if implemented in a language with finite-precision arithmetic.\n"
   ]
  },
  {
   "cell_type": "code",
   "execution_count": 73,
   "metadata": {},
   "outputs": [],
   "source": [
    "#approach1 \n",
    "def add1(arr):\n",
    "    num = ''.join(map(str,arr))\n",
    "    num_str = list(str(int(num)+1))\n",
    "    return [int(num) for num in num_str]"
   ]
  },
  {
   "cell_type": "code",
   "execution_count": 74,
   "metadata": {},
   "outputs": [
    {
     "data": {
      "text/plain": [
       "[1, 0, 0, 0]"
      ]
     },
     "execution_count": 74,
     "metadata": {},
     "output_type": "execute_result"
    }
   ],
   "source": [
    "add1([9,9,9])"
   ]
  },
  {
   "cell_type": "code",
   "execution_count": 64,
   "metadata": {},
   "outputs": [],
   "source": [
    "#approach2\n",
    "def add1(a):\n",
    "    l = len(a)-1\n",
    "    while l>=0:\n",
    "        a[l] = a[l] + 1\n",
    "        if a[l] < 10:\n",
    "            return a\n",
    "        \n",
    "        a[l] = 0\n",
    "        l = l - 1\n",
    "    if a[0] == 0:\n",
    "        return [1] + a"
   ]
  },
  {
   "cell_type": "code",
   "execution_count": 65,
   "metadata": {},
   "outputs": [
    {
     "name": "stdout",
     "output_type": "stream",
     "text": [
      "[1, 0, 0, 0]\n",
      "[2, 0, 0]\n",
      "[1, 3, 0]\n"
     ]
    }
   ],
   "source": [
    "print(add1([9,9,9]))\n",
    "print(add1([1,9,9]))\n",
    "print(add1([1,2,9]))"
   ]
  },
  {
   "cell_type": "markdown",
   "metadata": {},
   "source": [
    "## Two sum problem\n",
    "Given a sorted array of integers, return the two numbers such that they would add upto to a specific target.\n",
    "Each input have exactly one solution and may not use the same element twice.\n",
    "\n",
    "A = [-2,1,2,4,7,11], target = 13,  Ans: 11,2"
   ]
  },
  {
   "cell_type": "code",
   "execution_count": 92,
   "metadata": {},
   "outputs": [],
   "source": [
    "A = [-2,1,2,4,7,11]\n",
    "target = 13"
   ]
  },
  {
   "cell_type": "code",
   "execution_count": 81,
   "metadata": {},
   "outputs": [
    {
     "name": "stdout",
     "output_type": "stream",
     "text": [
      "2 11\n",
      "True\n"
     ]
    }
   ],
   "source": [
    "#approach1: brute force\n",
    "def sumbrute(arr,tar):\n",
    "    for i in range(len(arr)-1):\n",
    "        for j in range(i+1,len(arr)):\n",
    "            if arr[i]+arr[j] == target:\n",
    "                print(arr[i],arr[j])\n",
    "                return True\n",
    "    return False\n",
    "        \n",
    "print(sumbrute(A,target))\n",
    "# time complex: O(n^2)"
   ]
  },
  {
   "cell_type": "code",
   "execution_count": 89,
   "metadata": {},
   "outputs": [
    {
     "data": {
      "text/plain": [
       "(2, 11)"
      ]
     },
     "execution_count": 89,
     "metadata": {},
     "output_type": "execute_result"
    }
   ],
   "source": [
    "#approach2\n",
    "def sum2(arr,tar):\n",
    "    \n",
    "    for num in arr:\n",
    "        temp = arr\n",
    "        s = tar - num\n",
    "        temp.remove(num)\n",
    "        if s in temp:\n",
    "            return num,s\n",
    "    return False\n",
    " \n",
    "sum2(A,target)"
   ]
  },
  {
   "cell_type": "code",
   "execution_count": 95,
   "metadata": {},
   "outputs": [
    {
     "name": "stdout",
     "output_type": "stream",
     "text": [
      "2 11\n"
     ]
    },
    {
     "data": {
      "text/plain": [
       "True"
      ]
     },
     "execution_count": 95,
     "metadata": {},
     "output_type": "execute_result"
    }
   ],
   "source": [
    "#approach3\n",
    "def sumhash(A,target):\n",
    "    ht = dict()\n",
    "    for i in range(len(A)):\n",
    "        if A[i] in ht:\n",
    "            print(ht[A[i]],A[i])\n",
    "            return True\n",
    "        else:\n",
    "            ht[target-A[i]] = A[i]\n",
    "    return False\n",
    "\n",
    "sumhash(A,target)\n",
    "#time complex: O(n)\n",
    "#space complex: O(n)"
   ]
  },
  {
   "cell_type": "code",
   "execution_count": 98,
   "metadata": {},
   "outputs": [
    {
     "name": "stdout",
     "output_type": "stream",
     "text": [
      "2 11\n"
     ]
    },
    {
     "data": {
      "text/plain": [
       "True"
      ]
     },
     "execution_count": 98,
     "metadata": {},
     "output_type": "execute_result"
    }
   ],
   "source": [
    "def twosum(A,target):\n",
    "    i = 0\n",
    "    j = len(A)-1\n",
    "    while i<=j:\n",
    "        if A[i] + A[j] == target:\n",
    "            print(A[i],A[j])\n",
    "            return True\n",
    "        elif A[i] + A[j] < target:\n",
    "            i += 1\n",
    "        else:\n",
    "            j -= 1\n",
    "    return False\n",
    "\n",
    "# time complex: O(n)\n",
    "#space complex: O(1)\n",
    "\n",
    "twosum(A,target)"
   ]
  },
  {
   "cell_type": "markdown",
   "metadata": {},
   "source": [
    "Given an array with values of stock prices at each day. Calulate the maximum amount of money that can be earned by buying and selling at any day.\n",
    "\n",
    "A = [310, 315. 275, 295, 260, 270, 290, 230, 255, 250]\n",
    "\n",
    "max val = 30 -> 260 to 290"
   ]
  },
  {
   "cell_type": "code",
   "execution_count": 99,
   "metadata": {},
   "outputs": [],
   "source": [
    "A = [310, 315, 275, 295, 260, 270, 290, 230, 255, 250]"
   ]
  },
  {
   "cell_type": "code",
   "execution_count": 102,
   "metadata": {},
   "outputs": [
    {
     "name": "stdout",
     "output_type": "stream",
     "text": [
      "30\n"
     ]
    }
   ],
   "source": [
    "#brute force\n",
    "def buy(A):\n",
    "    max_profit = 0\n",
    "    for i in range(len(A)-1):\n",
    "        for j in range(i+1,len(A)):\n",
    "            if A[j] - A[i] > max_profit:\n",
    "                max_profit = A[j] - A[i]\n",
    "    \n",
    "    return max_profit\n",
    "\n",
    "print(buy(A))\n",
    "\n",
    "#time complexity: O(n^2)"
   ]
  },
  {
   "cell_type": "code",
   "execution_count": 104,
   "metadata": {},
   "outputs": [
    {
     "name": "stdout",
     "output_type": "stream",
     "text": [
      "30\n"
     ]
    }
   ],
   "source": [
    "#better\n",
    "def buy2(A):\n",
    "    max_profit = 0\n",
    "    min_price = A[0]\n",
    "    for price in A:\n",
    "        min_price = min(min_price,price)\n",
    "        profit = price - min_price\n",
    "        max_profit = max(max_profit,profit)\n",
    "    return max_profit\n",
    "\n",
    "print(buy(A))\n",
    "            \n",
    "#time complexity: O(n^2)        "
   ]
  },
  {
   "cell_type": "code",
   "execution_count": null,
   "metadata": {},
   "outputs": [],
   "source": []
  }
 ],
 "metadata": {
  "kernelspec": {
   "display_name": "Python 3",
   "language": "python",
   "name": "python3"
  },
  "language_info": {
   "codemirror_mode": {
    "name": "ipython",
    "version": 3
   },
   "file_extension": ".py",
   "mimetype": "text/x-python",
   "name": "python",
   "nbconvert_exporter": "python",
   "pygments_lexer": "ipython3",
   "version": "3.7.6"
  }
 },
 "nbformat": 4,
 "nbformat_minor": 4
}
